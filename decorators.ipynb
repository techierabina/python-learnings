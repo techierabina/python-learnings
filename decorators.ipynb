{
 "cells": [
  {
   "cell_type": "markdown",
   "id": "908620b8",
   "metadata": {},
   "source": [
    "What is python decerators? \n",
    "They are the special function in python that adds functionality another function without modifying it's code. It is powerful and elegant tool to extend python behavior. \n",
    "Synatax\n",
    "\n",
    "@decorator_name\n",
    "def fun(argument):\n",
    "    pass\n",
    "This is same as: \n",
    "def fun(argument)\n",
    "fun=decorator_name(fun)"
   ]
  },
  {
   "cell_type": "code",
   "execution_count": null,
   "id": "e77813c9",
   "metadata": {},
   "outputs": [],
   "source": [
    "#example\n",
    "def my_decorator(func):\n",
    "    def wrapper():\n",
    "        print(\"Before the function runs\")\n",
    "        func()\n",
    "        print(\"After the function runs.\")\n",
    "    return wrapper\n",
    "\n",
    "@my_decorator\n",
    "def greet():\n",
    "    print(\"Hello !\") \n",
    "greet()"
   ]
  },
  {
   "cell_type": "code",
   "execution_count": null,
   "id": "276e083e",
   "metadata": {},
   "outputs": [],
   "source": []
  }
 ],
 "metadata": {
  "kernelspec": {
   "display_name": "myenv",
   "language": "python",
   "name": "python3"
  },
  "language_info": {
   "codemirror_mode": {
    "name": "ipython",
    "version": 3
   },
   "file_extension": ".py",
   "mimetype": "text/x-python",
   "name": "python",
   "nbconvert_exporter": "python",
   "pygments_lexer": "ipython3",
   "version": "3.11.11"
  }
 },
 "nbformat": 4,
 "nbformat_minor": 5
}
