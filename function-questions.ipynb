{
 "cells": [
  {
   "cell_type": "markdown",
   "id": "1d1c471d",
   "metadata": {},
   "source": [
    "FUNCTION EXAMPLES"
   ]
  },
  {
   "cell_type": "markdown",
   "id": "7ffe58c6",
   "metadata": {},
   "source": [
    "1. Temperature Conversion"
   ]
  },
  {
   "cell_type": "code",
   "execution_count": 3,
   "id": "66d95fbc",
   "metadata": {},
   "outputs": [
    {
     "name": "stdout",
     "output_type": "stream",
     "text": [
      "73.4\n",
      "25.0\n"
     ]
    }
   ],
   "source": [
    "def temperature_conversion(temp,unit):\n",
    "#convert celsius to fahrenheit and vice-versa\n",
    "    if unit=='C':\n",
    "      return temp * 9/5 + 32 #celsius to fahrenheit\n",
    "    elif unit == 'F':\n",
    "      return (temp-32)*5/9 #fahrenheit to celcius\n",
    "    else:\n",
    "       return None\n",
    "\n",
    "print(temperature_conversion(23,\"C\"))\n",
    "print(temperature_conversion(77,\"F\"))\n",
    "\n"
   ]
  },
  {
   "cell_type": "markdown",
   "id": "d96c78cf",
   "metadata": {},
   "source": [
    "2. Password Strength Checker"
   ]
  },
  {
   "cell_type": "code",
   "execution_count": 11,
   "id": "22ed5897",
   "metadata": {},
   "outputs": [
    {
     "name": "stdout",
     "output_type": "stream",
     "text": [
      "✅ Strong password!\n"
     ]
    }
   ],
   "source": [
    "import string\n",
    "def is_strong_password(password):\n",
    "    \"\"\"This function checks if the password is strong or not\"\"\"\n",
    "    if len(password)<8:\n",
    "        return False\n",
    "    if not any(char.isdigit() for char in password):\n",
    "        return False\n",
    "    if not any(char.islower() for char in password):\n",
    "        return False\n",
    "    if not any(char.isupper() for char in password):\n",
    "        return False\n",
    "    if not any(char in string.punctuation for char in password):\n",
    "        return False\n",
    "    return True\n",
    "\n",
    "pw=input(\"Enter your password: \")\n",
    "if is_strong_password(pw):\n",
    "    print(\"✅ Strong password!\")\n",
    "else:\n",
    "    print(\"❌ Weak password. Try again!\")"
   ]
  },
  {
   "cell_type": "markdown",
   "id": "bbfc90fa",
   "metadata": {},
   "source": [
    "3. Check if a string is Palindrome"
   ]
  },
  {
   "cell_type": "code",
   "execution_count": 15,
   "id": "5d7d739b",
   "metadata": {},
   "outputs": [
    {
     "name": "stdout",
     "output_type": "stream",
     "text": [
      "Not a palindrome\n"
     ]
    }
   ],
   "source": [
    "user_input=input(\"Enter a string:\")\n",
    "user_input=user_input.replace(\" \", \"\").lower()\n",
    "reversed_str=user_input[::-1]\n",
    "if user_input==reversed_str:\n",
    "    print(\"It is a palindrome.\")\n",
    "else:\n",
    "    print(\"Not a palindrome\")\n"
   ]
  },
  {
   "cell_type": "markdown",
   "id": "21a8b0c2",
   "metadata": {},
   "source": [
    "4. Calculate factorial using recursion"
   ]
  },
  {
   "cell_type": "code",
   "execution_count": null,
   "id": "08352fd9",
   "metadata": {},
   "outputs": [
    {
     "name": "stdout",
     "output_type": "stream",
     "text": [
      "The factorial of 5: 120\n"
     ]
    }
   ],
   "source": [
    "def factorial(fact):\n",
    "    if fact<=1:\n",
    "        return 1\n",
    "    else:\n",
    "        return fact*factorial(fact-1)\n",
    "\n",
    "user_input=int(input(\"Enter the number: \"))\n",
    "result=factorial(user_input)\n",
    "print(f\"The factorial of {user_input} is {result}\")"
   ]
  },
  {
   "cell_type": "markdown",
   "id": "99fdcebc",
   "metadata": {},
   "source": [
    "5. Email Validation"
   ]
  },
  {
   "cell_type": "code",
   "execution_count": 23,
   "id": "e44f8232",
   "metadata": {},
   "outputs": [
    {
     "name": "stdout",
     "output_type": "stream",
     "text": [
      "✅ Valid email address.\n"
     ]
    }
   ],
   "source": [
    "import re\n",
    "\n",
    "def is_valid_email(email):\n",
    "    pattern = r'^[a-zA-Z0-9._%-]+@[a-zA-Z0-9.-]+\\.[a-zA-Z]{2,}$'\n",
    "    return re.match(pattern, email) is not None\n",
    "\n",
    "email = input(\"Enter your email: \")\n",
    "if is_valid_email(email):\n",
    "    print(\"✅ Valid email address.\")\n",
    "else:\n",
    "    print(\"❌ Invalid email address.\")\n"
   ]
  }
 ],
 "metadata": {
  "kernelspec": {
   "display_name": "myenv",
   "language": "python",
   "name": "python3"
  },
  "language_info": {
   "codemirror_mode": {
    "name": "ipython",
    "version": 3
   },
   "file_extension": ".py",
   "mimetype": "text/x-python",
   "name": "python",
   "nbconvert_exporter": "python",
   "pygments_lexer": "ipython3",
   "version": "3.11.11"
  }
 },
 "nbformat": 4,
 "nbformat_minor": 5
}
