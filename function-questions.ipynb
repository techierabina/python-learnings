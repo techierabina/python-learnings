{
 "cells": [
  {
   "cell_type": "markdown",
   "id": "1d1c471d",
   "metadata": {},
   "source": [
    "FUNCTION EXAMPLES"
   ]
  },
  {
   "cell_type": "markdown",
   "id": "7ffe58c6",
   "metadata": {},
   "source": [
    "1. Temperature Conversion"
   ]
  },
  {
   "cell_type": "code",
   "execution_count": 3,
   "id": "66d95fbc",
   "metadata": {},
   "outputs": [
    {
     "name": "stdout",
     "output_type": "stream",
     "text": [
      "73.4\n",
      "25.0\n"
     ]
    }
   ],
   "source": [
    "def temperature_conversion(temp,unit):\n",
    "#convert celsius to fahrenheit and vice-versa\n",
    "    if unit=='C':\n",
    "      return temp * 9/5 + 32 #celsius to fahrenheit\n",
    "    elif unit == 'F':\n",
    "      return (temp-32)*5/9 #fahrenheit to celcius\n",
    "    else:\n",
    "       return None\n",
    "\n",
    "print(temperature_conversion(23,\"C\"))\n",
    "print(temperature_conversion(77,\"F\"))\n",
    "\n"
   ]
  },
  {
   "cell_type": "markdown",
   "id": "d96c78cf",
   "metadata": {},
   "source": [
    "2. Password Strength Checker"
   ]
  },
  {
   "cell_type": "code",
   "execution_count": 11,
   "id": "22ed5897",
   "metadata": {},
   "outputs": [
    {
     "name": "stdout",
     "output_type": "stream",
     "text": [
      "✅ Strong password!\n"
     ]
    }
   ],
   "source": [
    "import string\n",
    "def is_strong_password(password):\n",
    "    \"\"\"This function checks if the password is strong or not\"\"\"\n",
    "    if len(password)<8:\n",
    "        return False\n",
    "    if not any(char.isdigit() for char in password):\n",
    "        return False\n",
    "    if not any(char.islower() for char in password):\n",
    "        return False\n",
    "    if not any(char.isupper() for char in password):\n",
    "        return False\n",
    "    if not any(char in string.punctuation for char in password):\n",
    "        return False\n",
    "    return True\n",
    "\n",
    "pw=input(\"Enter your password: \")\n",
    "if is_strong_password(pw):\n",
    "    print(\"✅ Strong password!\")\n",
    "else:\n",
    "    print(\"❌ Weak password. Try again!\")"
   ]
  }
 ],
 "metadata": {
  "kernelspec": {
   "display_name": "myenv",
   "language": "python",
   "name": "python3"
  },
  "language_info": {
   "codemirror_mode": {
    "name": "ipython",
    "version": 3
   },
   "file_extension": ".py",
   "mimetype": "text/x-python",
   "name": "python",
   "nbconvert_exporter": "python",
   "pygments_lexer": "ipython3",
   "version": "3.11.11"
  }
 },
 "nbformat": 4,
 "nbformat_minor": 5
}
