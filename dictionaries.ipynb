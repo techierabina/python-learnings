{
 "cells": [
  {
   "cell_type": "markdown",
   "id": "81117072",
   "metadata": {},
   "source": [
    "### Assignment 1: Creating and Accessing Dictionaries\n",
    "Create a dictionary with the first 10 positive integers as keys and their squares as values. Print the dictionary."
   ]
  },
  {
   "cell_type": "code",
   "execution_count": null,
   "id": "d6c5cba1",
   "metadata": {},
   "outputs": [],
   "source": [
    "positive_integers={x:x**2 for x in range(1,11)}\n",
    "print(positive_integers)"
   ]
  },
  {
   "cell_type": "markdown",
   "id": "55a94a81",
   "metadata": {},
   "source": [
    "### Assignment 2: Accessing Dictionary Elements\n",
    "Print the value of the key 5 and the keys of the dictionary created in Assignment 1."
   ]
  },
  {
   "cell_type": "code",
   "execution_count": null,
   "id": "cd7aa303",
   "metadata": {},
   "outputs": [],
   "source": [
    "print(f\"The value of key 5 is:{positive_integers[5]}\")\n",
    "keys_elements=positive_integers.keys()\n",
    "print(list(keys_elements))"
   ]
  },
  {
   "cell_type": "markdown",
   "id": "77e925d2",
   "metadata": {},
   "source": [
    "### Assignment 3: Dictionary Methods\n",
    "Add a new key-value pair (11, 121) to the dictionary created in Assignment 1 and then remove the key-value pair with key 1. Print the modified dictionary."
   ]
  },
  {
   "cell_type": "code",
   "execution_count": null,
   "id": "9c6fa555",
   "metadata": {},
   "outputs": [],
   "source": [
    "positive_integers[11]=121\n",
    "print(positive_integers)\n",
    "positive_integers.pop(1)\n",
    "print(positive_integers)"
   ]
  },
  {
   "cell_type": "markdown",
   "id": "417d11df",
   "metadata": {},
   "source": [
    "### Assignment 4: Iterating Over Dictionaries\n",
    "Iterate over the dictionary created in Assignment 1 and print each key-value pair."
   ]
  },
  {
   "cell_type": "code",
   "execution_count": null,
   "id": "c25ee951",
   "metadata": {},
   "outputs": [],
   "source": [
    "for keys,values in positive_integers.items():\n",
    "    print(f\"{keys}:{values}\")"
   ]
  },
  {
   "cell_type": "markdown",
   "id": "9a556735",
   "metadata": {},
   "source": [
    "### Assignment 5: Dictionary Comprehensions\n",
    "Create a new dictionary containing the cubes of the first 10 positive integers \n",
    "using a dictionary comprehension. Print the new dictionary."
   ]
  },
  {
   "cell_type": "code",
   "execution_count": null,
   "id": "a2d2f615",
   "metadata": {},
   "outputs": [],
   "source": [
    "cubes={x:x**3 for x in range(1,11)}\n",
    "print(cubes)"
   ]
  },
  {
   "cell_type": "markdown",
   "id": "42265199",
   "metadata": {},
   "source": [
    "### Assignment 6: Merging Dictionaries\n",
    "Create two dictionaries: one with keys as the first 5 positive integers and values as their squares, and another with keys as the next 5 positive integers and values as their squares. Merge these dictionaries into a single dictionary and print it."
   ]
  },
  {
   "cell_type": "code",
   "execution_count": null,
   "id": "909670a8",
   "metadata": {},
   "outputs": [],
   "source": [
    "first={x:x**2 for x in range(1,6)}\n",
    "second={x:x for x in range(6,11)}\n",
    "print(first)\n",
    "print(second)\n",
    "merge={**first,**second}\n",
    "print(merge)"
   ]
  },
  {
   "cell_type": "markdown",
   "id": "6580a858",
   "metadata": {},
   "source": [
    "### Assignment 7: Nested Dictionaries\n",
    "Create a nested dictionary representing a student with keys 'name', 'age', 'grades', where 'grades' is another dictionary with keys 'math', 'science', and 'english'. Print the nested dictionary."
   ]
  },
  {
   "cell_type": "code",
   "execution_count": null,
   "id": "59bf0500",
   "metadata": {},
   "outputs": [],
   "source": [
    "student={\"name\":\"Raina\",\n",
    "          \"age\":10,\n",
    "          \"grades\":{\"math\":99,\"science\":100,\"english\":96}\n",
    "}\n",
    "print(student)"
   ]
  },
  {
   "cell_type": "markdown",
   "id": "0d0466c1",
   "metadata": {},
   "source": [
    "### Assignment 8: Dictionary of Lists\n",
    "Create a dictionary where the keys are the first 5 positive integers and the values are \n",
    "lists containing the first 5 multiples of the key. Print the dictionary."
   ]
  },
  {
   "cell_type": "code",
   "execution_count": null,
   "id": "8bf300cf",
   "metadata": {},
   "outputs": [],
   "source": [
    "mulitpile={x:x*[y for y in range(1,6)] for x in range(1,6)}\n",
    "for x,y in mulitpile.items():\n",
    "    print(f\"{x}:{y}\")"
   ]
  },
  {
   "cell_type": "markdown",
   "id": "069ac2a1",
   "metadata": {},
   "source": [
    "### Assignment 9: Dictionary of Tuples\n",
    "Create a dictionary where the keys are the first 5 positive integers and \n",
    "the values are tuples containing the key and its square. Print the dictionary."
   ]
  },
  {
   "cell_type": "code",
   "execution_count": null,
   "id": "a3a16ed1",
   "metadata": {},
   "outputs": [],
   "source": [
    "squares={x:(x,x**2) for x in range(1,6)}\n",
    "print(squares)"
   ]
  },
  {
   "cell_type": "markdown",
   "id": "4f1ebdaa",
   "metadata": {},
   "source": [
    "### Assignment 10: Dictionary and List Conversion\n",
    "Create a dictionary with the first 5 positive integers as keys and their squares as values.\n",
    "Convert the dictionary to a list of tuples and print it."
   ]
  },
  {
   "cell_type": "code",
   "execution_count": null,
   "id": "bde0c026",
   "metadata": {},
   "outputs": [],
   "source": [
    "positive_square={x:x**2 for x in range(1,6)}\n",
    "list_tuple=list(positive_square.items())\n",
    "print(list_tuple)"
   ]
  }
 ],
 "metadata": {
  "kernelspec": {
   "display_name": "myenv",
   "language": "python",
   "name": "python3"
  },
  "language_info": {
   "codemirror_mode": {
    "name": "ipython",
    "version": 3
   },
   "file_extension": ".py",
   "mimetype": "text/x-python",
   "name": "python",
   "nbconvert_exporter": "python",
   "pygments_lexer": "ipython3",
   "version": "3.11.11"
  }
 },
 "nbformat": 4,
 "nbformat_minor": 5
}
