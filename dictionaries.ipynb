{
 "cells": [
  {
   "cell_type": "markdown",
   "id": "81117072",
   "metadata": {},
   "source": [
    "### Assignment 1: Creating and Accessing Dictionaries\n",
    "Create a dictionary with the first 10 positive integers as keys and their squares as values. Print the dictionary."
   ]
  },
  {
   "cell_type": "code",
   "execution_count": null,
   "id": "d6c5cba1",
   "metadata": {},
   "outputs": [],
   "source": [
    "positive_integers={x:x**2 for x in range(1,11)}\n",
    "print(positive_integers)"
   ]
  },
  {
   "cell_type": "markdown",
   "id": "55a94a81",
   "metadata": {},
   "source": [
    "### Assignment 2: Accessing Dictionary Elements\n",
    "Print the value of the key 5 and the keys of the dictionary created in Assignment 1."
   ]
  },
  {
   "cell_type": "code",
   "execution_count": null,
   "id": "cd7aa303",
   "metadata": {},
   "outputs": [],
   "source": [
    "print(f\"The value of key 5 is:{positive_integers[5]}\")\n",
    "keys_elements=positive_integers.keys()\n",
    "print(list(keys_elements))"
   ]
  },
  {
   "cell_type": "markdown",
   "id": "77e925d2",
   "metadata": {},
   "source": [
    "### Assignment 3: Dictionary Methods\n",
    "Add a new key-value pair (11, 121) to the dictionary created in Assignment 1 and then remove the key-value pair with key 1. Print the modified dictionary."
   ]
  },
  {
   "cell_type": "code",
   "execution_count": null,
   "id": "9c6fa555",
   "metadata": {},
   "outputs": [],
   "source": [
    "positive_integers[11]=121\n",
    "print(positive_integers)\n",
    "positive_integers.pop(1)\n",
    "print(positive_integers)"
   ]
  },
  {
   "cell_type": "markdown",
   "id": "417d11df",
   "metadata": {},
   "source": [
    "### Assignment 4: Iterating Over Dictionaries\n",
    "Iterate over the dictionary created in Assignment 1 and print each key-value pair."
   ]
  },
  {
   "cell_type": "code",
   "execution_count": null,
   "id": "c25ee951",
   "metadata": {},
   "outputs": [],
   "source": [
    "for keys,values in positive_integers.items():\n",
    "    print(f\"{keys}:{values}\")"
   ]
  },
  {
   "cell_type": "markdown",
   "id": "9a556735",
   "metadata": {},
   "source": [
    "### Assignment 5: Dictionary Comprehensions\n",
    "Create a new dictionary containing the cubes of the first 10 positive integers \n",
    "using a dictionary comprehension. Print the new dictionary."
   ]
  },
  {
   "cell_type": "code",
   "execution_count": null,
   "id": "a2d2f615",
   "metadata": {},
   "outputs": [],
   "source": [
    "cubes={x:x**3 for x in range(1,11)}\n",
    "print(cubes)"
   ]
  },
  {
   "cell_type": "markdown",
   "id": "42265199",
   "metadata": {},
   "source": [
    "### Assignment 6: Merging Dictionaries\n",
    "Create two dictionaries: one with keys as the first 5 positive integers and values as their squares, and another with keys as the next 5 positive integers and values as their squares. Merge these dictionaries into a single dictionary and print it."
   ]
  },
  {
   "cell_type": "code",
   "execution_count": null,
   "id": "909670a8",
   "metadata": {},
   "outputs": [],
   "source": [
    "first={x:x**2 for x in range(1,6)}\n",
    "second={x:x for x in range(6,11)}\n",
    "print(first)\n",
    "print(second)\n",
    "merge={**first,**second}\n",
    "print(merge)"
   ]
  },
  {
   "cell_type": "markdown",
   "id": "6580a858",
   "metadata": {},
   "source": [
    "### Assignment 7: Nested Dictionaries\n",
    "Create a nested dictionary representing a student with keys 'name', 'age', 'grades', where 'grades' is another dictionary with keys 'math', 'science', and 'english'. Print the nested dictionary."
   ]
  },
  {
   "cell_type": "code",
   "execution_count": null,
   "id": "59bf0500",
   "metadata": {},
   "outputs": [],
   "source": [
    "student={\"name\":\"Raina\",\n",
    "          \"age\":10,\n",
    "          \"grades\":{\"math\":99,\"science\":100,\"english\":96}\n",
    "}\n",
    "print(student)"
   ]
  },
  {
   "cell_type": "markdown",
   "id": "0d0466c1",
   "metadata": {},
   "source": [
    "### Assignment 8: Dictionary of Lists\n",
    "Create a dictionary where the keys are the first 5 positive integers and the values are \n",
    "lists containing the first 5 multiples of the key. Print the dictionary."
   ]
  },
  {
   "cell_type": "code",
   "execution_count": null,
   "id": "8bf300cf",
   "metadata": {},
   "outputs": [],
   "source": [
    "mulitpile={x:x*[y for y in range(1,6)] for x in range(1,6)}\n",
    "for x,y in mulitpile.items():\n",
    "    print(f\"{x}:{y}\")"
   ]
  },
  {
   "cell_type": "markdown",
   "id": "069ac2a1",
   "metadata": {},
   "source": [
    "### Assignment 9: Dictionary of Tuples\n",
    "Create a dictionary where the keys are the first 5 positive integers and \n",
    "the values are tuples containing the key and its square. Print the dictionary."
   ]
  },
  {
   "cell_type": "code",
   "execution_count": null,
   "id": "a3a16ed1",
   "metadata": {},
   "outputs": [],
   "source": [
    "squares={x:(x,x**2) for x in range(1,6)}\n",
    "print(squares)"
   ]
  },
  {
   "cell_type": "markdown",
   "id": "4f1ebdaa",
   "metadata": {},
   "source": [
    "### Assignment 10: Dictionary and List Conversion\n",
    "Create a dictionary with the first 5 positive integers as keys and their squares as values.\n",
    "Convert the dictionary to a list of tuples and print it."
   ]
  },
  {
   "cell_type": "code",
   "execution_count": null,
   "id": "bde0c026",
   "metadata": {},
   "outputs": [],
   "source": [
    "positive_square={x:x**2 for x in range(1,6)}\n",
    "list_tuple=list(positive_square.items())\n",
    "print(list_tuple)"
   ]
  },
  {
   "cell_type": "markdown",
   "id": "0ef1a792",
   "metadata": {},
   "source": [
    "### Assignment 11: Dictionary Filtering\n",
    "Create a dictionary with the first 10 positive integers as keys and their squares as values.\n",
    "Create a new dictionary containing only the key-value pairs where the key is even. Print the new dictionary."
   ]
  },
  {
   "cell_type": "code",
   "execution_count": null,
   "id": "1964d5d7",
   "metadata": {},
   "outputs": [],
   "source": [
    "positive_square={x:x**2 for x in range(1,11)}\n",
    "even={x:y for x,y in positive_square.items() if x%2==0}\n",
    "print(even)"
   ]
  },
  {
   "cell_type": "markdown",
   "id": "29fb3922",
   "metadata": {},
   "source": [
    "### Assignment 12: Dictionary Key and Value Transformation\n",
    "Create a dictionary with the first 5 positive integers as keys and their squares as values. \n",
    "Create a new dictionary with keys and values swapped. Print the new dictionary."
   ]
  },
  {
   "cell_type": "code",
   "execution_count": null,
   "id": "c0bd46ff",
   "metadata": {},
   "outputs": [],
   "source": [
    "squares={x:x**2 for x in range(1,6)}\n",
    "swapped_dict={y:x for x,y in squares.items()}\n",
    "print(swapped_dict)"
   ]
  },
  {
   "cell_type": "markdown",
   "id": "c6365c7e",
   "metadata": {},
   "source": [
    "### Assignment 13: Default Dictionary\n",
    "Create a default dictionary where each key has a default value of an empty list. \n",
    "Add some elements to the lists and print the dictionary."
   ]
  },
  {
   "cell_type": "code",
   "execution_count": null,
   "id": "460d25cd",
   "metadata": {},
   "outputs": [],
   "source": [
    "from collections import defaultdict\n",
    "default_dict=defaultdict(list)\n",
    "default_dict[1].append(\"rabina\")\n",
    "default_dict[2].append(\"sagar\")\n",
    "default_dict[3].append(\"rejina\")\n",
    "default_dict[4].append(\"simran\")\n",
    "print(default_dict)"
   ]
  },
  {
   "cell_type": "markdown",
   "id": "11a4208a",
   "metadata": {},
   "source": [
    "### Assignment 14: Counting with Dictionaries\n",
    "Write a function that takes a string and returns a dictionary with the count \n",
    "of each character in the string. Print the dictionary."
   ]
  },
  {
   "cell_type": "code",
   "execution_count": null,
   "id": "77653019",
   "metadata": {},
   "outputs": [],
   "source": [
    "def count_characters(text):\n",
    "    char_count = {}\n",
    "    for char in text:\n",
    "        if char in char_count:\n",
    "            char_count[char] += 1\n",
    "        else:\n",
    "            char_count[char] = 1\n",
    "    return char_count\n",
    "\n",
    "# Example usage\n",
    "input_string = \"hello world\"\n",
    "result = count_characters(input_string)\n",
    "print(result)\n"
   ]
  },
  {
   "cell_type": "markdown",
   "id": "34cd983f",
   "metadata": {},
   "source": [
    "### Assignment 15: Dictionary and JSON\n",
    "Create a dictionary representing a book with keys 'title', 'author', 'year', and 'genre'. \n",
    "Convert the dictionary to a JSON string and print it."
   ]
  },
  {
   "cell_type": "code",
   "execution_count": null,
   "id": "61500360",
   "metadata": {},
   "outputs": [],
   "source": [
    "import json\n",
    "\n",
    "book = {\n",
    "    'title': 'To Kill a Mockingbird',\n",
    "    'author': 'Harper Lee',\n",
    "    'year': 1960,\n",
    "    'genre': 'Fiction'\n",
    "}\n",
    "book_json = json.dumps(book)\n",
    "print(book_json)"
   ]
  }
 ],
 "metadata": {
  "kernelspec": {
   "display_name": "myenv",
   "language": "python",
   "name": "python3"
  },
  "language_info": {
   "codemirror_mode": {
    "name": "ipython",
    "version": 3
   },
   "file_extension": ".py",
   "mimetype": "text/x-python",
   "name": "python",
   "nbconvert_exporter": "python",
   "pygments_lexer": "ipython3",
   "version": "3.11.11"
  }
 },
 "nbformat": 4,
 "nbformat_minor": 5
}
