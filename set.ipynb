{
 "cells": [
  {
   "cell_type": "markdown",
   "id": "fce078e8",
   "metadata": {},
   "source": [
    "### Assignment 1: Creating and Accessing Sets\n",
    "Create a set with the first 10 positive integers. Print the set."
   ]
  },
  {
   "cell_type": "code",
   "execution_count": null,
   "id": "65a2ab1c",
   "metadata": {},
   "outputs": [],
   "source": [
    "positive_set={x for x in range(1,11)}\n",
    "print(positive_set)\n",
    "print(type(positive_set))"
   ]
  },
  {
   "cell_type": "markdown",
   "id": "9599d628",
   "metadata": {},
   "source": [
    "### Assignment 2: Adding and Removing Elements\n",
    "Add the number 11 to the set created in Assignment 1. Then remove the number 1 from the set. Print the modified set."
   ]
  },
  {
   "cell_type": "code",
   "execution_count": null,
   "id": "018405df",
   "metadata": {},
   "outputs": [],
   "source": [
    "positive_set.add(11)\n",
    "print(positive_set)\n",
    "positive_set.remove(1)\n",
    "print(positive_set)"
   ]
  },
  {
   "cell_type": "markdown",
   "id": "c0eb9af4",
   "metadata": {},
   "source": [
    "### Assignment 3: Set Operations\n",
    "Create two sets: one with the first 5 positive integers and another with the first 5 even integers. \n",
    "Perform and print the results of union, intersection, difference, and symmetric difference operations on these sets."
   ]
  },
  {
   "cell_type": "code",
   "execution_count": null,
   "id": "7e701b34",
   "metadata": {},
   "outputs": [],
   "source": [
    "set1={1,2,3,5}\n",
    "set2={2,4,9,0}\n",
    "union1=set1.union(set2)\n",
    "print(union1)\n",
    "intersection1=set1.intersection(set2)\n",
    "print(intersection1)\n",
    "difference1=set1.difference(set2)\n",
    "print(difference1)\n",
    "symmetric_difference=set1.symmetric_difference(set2)\n",
    "print(symmetric_difference)\n",
    "## another way of doingprint(f\"Union: {set1 | set2}\")\n",
    "#print(f\"Intersection: {set1 & set2}\")\n",
    "#print(f\"Difference (set1 - set2): {set1 - set2}\")\n",
    "#print(f\"Symmetric Difference: {set1 ^ set2}\")"
   ]
  },
  {
   "cell_type": "markdown",
   "id": "a92aee95",
   "metadata": {},
   "source": [
    "### Assignment 4: Set Comprehensions\n",
    "Create a new set containing the squares of the first 10 positive integers using a set comprehension. Print the new set."
   ]
  },
  {
   "cell_type": "code",
   "execution_count": null,
   "id": "286128fd",
   "metadata": {},
   "outputs": [],
   "source": [
    "square_numbers={x**2 for x in range(1,11)}\n",
    "print(square_numbers)"
   ]
  },
  {
   "cell_type": "markdown",
   "id": "e9124dfa",
   "metadata": {},
   "source": [
    "### Assignment 5: Filtering Sets\n",
    "Create a new set containing only the even numbers from the set created in Assignment 1 \n",
    "using a set comprehension. Print the new set."
   ]
  },
  {
   "cell_type": "code",
   "execution_count": null,
   "id": "9dc64d2d",
   "metadata": {},
   "outputs": [],
   "source": [
    "even_numbers={x for x in positive_set if x%2==0}\n",
    "print(even_numbers)"
   ]
  },
  {
   "cell_type": "markdown",
   "id": "89a53f9a",
   "metadata": {},
   "source": [
    "### Assignment 6: Set Methods\n",
    "Create a set with duplicate elements and remove the duplicates using set methods. Print the modified set."
   ]
  },
  {
   "cell_type": "code",
   "execution_count": null,
   "id": "4c405bf8",
   "metadata": {},
   "outputs": [],
   "source": [
    "set0={11,22,33,11,22,33,11,55,33,77,66,11,44,55}\n",
    "unique_set=set(set0)\n",
    "print(unique_set)"
   ]
  },
  {
   "cell_type": "markdown",
   "id": "4e1f5a45",
   "metadata": {},
   "source": [
    "### Assignment 7: Subsets and Supersets\n",
    "Create two sets: one with the first 5 positive integers and another with the first 3 positive integers. \n",
    "Check if the second set is a subset of the first set and if the first set is a superset of the second set. Print the results."
   ]
  },
  {
   "cell_type": "code",
   "execution_count": null,
   "id": "620807ab",
   "metadata": {},
   "outputs": [],
   "source": [
    "set1 = set(range(1, 6))\n",
    "set2 = set(range(1, 4))\n",
    "print(f\"Is set2 a subset of set1? {set2.issubset(set1)}\")\n",
    "print(f\"Is set1 a superset of set2? {set1.issuperset(set2)}\")"
   ]
  },
  {
   "cell_type": "markdown",
   "id": "f30cbb99",
   "metadata": {},
   "source": [
    "### Assignment 8: Frozenset\n",
    "Create a frozenset with the first 5 positive integers. Print the frozenset."
   ]
  },
  {
   "cell_type": "code",
   "execution_count": null,
   "id": "62441c44",
   "metadata": {},
   "outputs": [],
   "source": [
    "fs = frozenset(range(1, 6))\n",
    "print(fs)"
   ]
  },
  {
   "cell_type": "markdown",
   "id": "c8a5ebb0",
   "metadata": {},
   "source": [
    "### Assignment 9: Set and List Conversion\n",
    "Create a set with the first 5 positive integers. Convert it to a list, append the number 6, and \n",
    "convert it back to a set. Print the resulting set."
   ]
  },
  {
   "cell_type": "code",
   "execution_count": null,
   "id": "71d37130",
   "metadata": {},
   "outputs": [],
   "source": [
    "s = set(range(1, 6))\n",
    "lst = list(s)\n",
    "lst.append(6)\n",
    "s = set(lst)\n",
    "print(s)"
   ]
  },
  {
   "cell_type": "markdown",
   "id": "dfc653b0",
   "metadata": {},
   "source": [
    "### Assignment 10: Set and Dictionary\n",
    "Create a dictionary with set keys and integer values. Print the dictionary."
   ]
  },
  {
   "cell_type": "code",
   "execution_count": null,
   "id": "8465dc71",
   "metadata": {},
   "outputs": [],
   "source": [
    "dict={\n",
    "    frozenset({2,3}):55,\n",
    "    frozenset({2,45}):99,\n",
    "    frozenset({4,22}):88\n",
    "}\n",
    "print(dict)"
   ]
  },
  {
   "cell_type": "markdown",
   "id": "59561105",
   "metadata": {},
   "source": [
    "### Assignment 11: Iterating Over Sets\n",
    "Create a set and iterate over the elements, printing each element."
   ]
  },
  {
   "cell_type": "code",
   "execution_count": null,
   "id": "d63d8aaf",
   "metadata": {},
   "outputs": [],
   "source": [
    "iteration={11,33,55,66,77,88,99}\n",
    "for x in iteration:\n",
    "    print(x)\n"
   ]
  },
  {
   "cell_type": "markdown",
   "id": "c3e3eb30",
   "metadata": {},
   "source": [
    "### Assignment 12: Removing Elements from Sets\n",
    "Create a set and remove elements from it until it is empty. Print the set after each removal."
   ]
  },
  {
   "cell_type": "code",
   "execution_count": null,
   "id": "b338cb5b",
   "metadata": {},
   "outputs": [],
   "source": [
    "set0=set(range(1,11))\n",
    "while set0:\n",
    "    set0.pop()\n",
    "    print(set0)\n",
    "\n"
   ]
  },
  {
   "cell_type": "markdown",
   "id": "32099679",
   "metadata": {},
   "source": [
    "### Assignment 13: Set Symmetric Difference Update\n",
    "Create two sets and update the first set with the symmetric difference of the two sets. Print the modified first set."
   ]
  },
  {
   "cell_type": "code",
   "execution_count": null,
   "id": "c32009f6",
   "metadata": {},
   "outputs": [],
   "source": [
    "set1={22,44,55,66,77,88,11,0,9,2}\n",
    "set2={0,9,33,66,77,44,7,6,5,2}\n",
    "set3=set1.symmetric_difference(set2) #fast and easiest way set1.symmetric_difference_update(set2)\n",
    "set1=set3\n",
    "print(set1)"
   ]
  },
  {
   "cell_type": "markdown",
   "id": "1e7f4262",
   "metadata": {},
   "source": [
    "### Assignment 14: Set Membership Testing\n",
    "Create a set and test if certain elements are present in the set. Print the results."
   ]
  },
  {
   "cell_type": "code",
   "execution_count": null,
   "id": "fef4483a",
   "metadata": {},
   "outputs": [],
   "source": [
    "object_set={\"rabina\",4,\"Sagar\",44,\"Saina\",0}\n",
    "print(object_set)\n",
    "print(\"rejina\" in object_set)\n",
    "print(4 in object_set)"
   ]
  },
  {
   "cell_type": "markdown",
   "id": "2374a3a2",
   "metadata": {},
   "source": [
    "### Assignment 15: Set of Tuples\n",
    "Create a set containing tuples, where each tuple contains two elements. Print the set."
   ]
  },
  {
   "cell_type": "code",
   "execution_count": null,
   "id": "5844a2ff",
   "metadata": {},
   "outputs": [],
   "source": [
    "s={(2,5),(5,7),(99,0),(99,4),(33,7)}\n",
    "print(s)"
   ]
  }
 ],
 "metadata": {
  "kernelspec": {
   "display_name": "myenv",
   "language": "python",
   "name": "python3"
  },
  "language_info": {
   "codemirror_mode": {
    "name": "ipython",
    "version": 3
   },
   "file_extension": ".py",
   "mimetype": "text/x-python",
   "name": "python",
   "nbconvert_exporter": "python",
   "pygments_lexer": "ipython3",
   "version": "3.11.11"
  }
 },
 "nbformat": 4,
 "nbformat_minor": 5
}
