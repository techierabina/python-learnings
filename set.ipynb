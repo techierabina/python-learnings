{
 "cells": [
  {
   "cell_type": "markdown",
   "id": "fce078e8",
   "metadata": {},
   "source": [
    "### Assignment 1: Creating and Accessing Sets\n",
    "Create a set with the first 10 positive integers. Print the set."
   ]
  },
  {
   "cell_type": "code",
   "execution_count": 3,
   "id": "65a2ab1c",
   "metadata": {},
   "outputs": [
    {
     "name": "stdout",
     "output_type": "stream",
     "text": [
      "{1, 2, 3, 4, 5, 6, 7, 8, 9, 10}\n",
      "<class 'set'>\n"
     ]
    }
   ],
   "source": [
    "positive_set={x for x in range(1,11)}\n",
    "print(positive_set)\n",
    "print(type(positive_set))"
   ]
  },
  {
   "cell_type": "markdown",
   "id": "9599d628",
   "metadata": {},
   "source": [
    "### Assignment 2: Adding and Removing Elements\n",
    "Add the number 11 to the set created in Assignment 1. Then remove the number 1 from the set. Print the modified set."
   ]
  },
  {
   "cell_type": "code",
   "execution_count": 5,
   "id": "018405df",
   "metadata": {},
   "outputs": [
    {
     "name": "stdout",
     "output_type": "stream",
     "text": [
      "{1, 2, 3, 4, 5, 6, 7, 8, 9, 10, 11}\n",
      "{2, 3, 4, 5, 6, 7, 8, 9, 10, 11}\n"
     ]
    }
   ],
   "source": [
    "positive_set.add(11)\n",
    "print(positive_set)\n",
    "positive_set.remove(1)\n",
    "print(positive_set)"
   ]
  },
  {
   "cell_type": "markdown",
   "id": "c0eb9af4",
   "metadata": {},
   "source": [
    "### Assignment 3: Set Operations\n",
    "Create two sets: one with the first 5 positive integers and another with the first 5 even integers. \n",
    "Perform and print the results of union, intersection, difference, and symmetric difference operations on these sets."
   ]
  },
  {
   "cell_type": "code",
   "execution_count": null,
   "id": "7e701b34",
   "metadata": {},
   "outputs": [
    {
     "name": "stdout",
     "output_type": "stream",
     "text": [
      "{0, 1, 2, 3, 4, 5, 9}\n",
      "{2}\n",
      "{1, 3, 5}\n",
      "{0, 1, 3, 4, 5, 9}\n"
     ]
    }
   ],
   "source": [
    "set1={1,2,3,5}\n",
    "set2={2,4,9,0}\n",
    "union1=set1.union(set2)\n",
    "print(union1)\n",
    "intersection1=set1.intersection(set2)\n",
    "print(intersection1)\n",
    "difference1=set1.difference(set2)\n",
    "print(difference1)\n",
    "symmetric_difference=set1.symmetric_difference(set2)\n",
    "print(symmetric_difference)\n",
    "## another way of doingprint(f\"Union: {set1 | set2}\")\n",
    "#print(f\"Intersection: {set1 & set2}\")\n",
    "#print(f\"Difference (set1 - set2): {set1 - set2}\")\n",
    "#print(f\"Symmetric Difference: {set1 ^ set2}\")"
   ]
  },
  {
   "cell_type": "markdown",
   "id": "a92aee95",
   "metadata": {},
   "source": [
    "### Assignment 4: Set Comprehensions\n",
    "Create a new set containing the squares of the first 10 positive integers using a set comprehension. Print the new set."
   ]
  },
  {
   "cell_type": "code",
   "execution_count": 11,
   "id": "286128fd",
   "metadata": {},
   "outputs": [
    {
     "name": "stdout",
     "output_type": "stream",
     "text": [
      "{64, 1, 4, 36, 100, 9, 16, 49, 81, 25}\n"
     ]
    }
   ],
   "source": [
    "square_numbers={x**2 for x in range(1,11)}\n",
    "print(square_numbers)"
   ]
  },
  {
   "cell_type": "markdown",
   "id": "e9124dfa",
   "metadata": {},
   "source": [
    "### Assignment 5: Filtering Sets\n",
    "Create a new set containing only the even numbers from the set created in Assignment 1 \n",
    "using a set comprehension. Print the new set."
   ]
  },
  {
   "cell_type": "code",
   "execution_count": 12,
   "id": "9dc64d2d",
   "metadata": {},
   "outputs": [
    {
     "name": "stdout",
     "output_type": "stream",
     "text": [
      "{2, 4, 6, 8, 10}\n"
     ]
    }
   ],
   "source": [
    "even_numbers={x for x in positive_set if x%2==0}\n",
    "print(even_numbers)"
   ]
  },
  {
   "cell_type": "markdown",
   "id": "89a53f9a",
   "metadata": {},
   "source": [
    "### Assignment 6: Set Methods\n",
    "Create a set with duplicate elements and remove the duplicates using set methods. Print the modified set."
   ]
  },
  {
   "cell_type": "code",
   "execution_count": 13,
   "id": "4c405bf8",
   "metadata": {},
   "outputs": [
    {
     "name": "stdout",
     "output_type": "stream",
     "text": [
      "{33, 66, 22, 55, 11, 44, 77}\n"
     ]
    }
   ],
   "source": [
    "set0={11,22,33,11,22,33,11,55,33,77,66,11,44,55}\n",
    "unique_set=set(set0)\n",
    "print(unique_set)"
   ]
  },
  {
   "cell_type": "markdown",
   "id": "4e1f5a45",
   "metadata": {},
   "source": [
    "### Assignment 7: Subsets and Supersets\n",
    "Create two sets: one with the first 5 positive integers and another with the first 3 positive integers. \n",
    "Check if the second set is a subset of the first set and if the first set is a superset of the second set. Print the results."
   ]
  },
  {
   "cell_type": "code",
   "execution_count": 14,
   "id": "620807ab",
   "metadata": {},
   "outputs": [
    {
     "name": "stdout",
     "output_type": "stream",
     "text": [
      "Is set2 a subset of set1? True\n",
      "Is set1 a superset of set2? True\n"
     ]
    }
   ],
   "source": [
    "set1 = set(range(1, 6))\n",
    "set2 = set(range(1, 4))\n",
    "print(f\"Is set2 a subset of set1? {set2.issubset(set1)}\")\n",
    "print(f\"Is set1 a superset of set2? {set1.issuperset(set2)}\")"
   ]
  },
  {
   "cell_type": "markdown",
   "id": "f30cbb99",
   "metadata": {},
   "source": [
    "### Assignment 8: Frozenset\n",
    "Create a frozenset with the first 5 positive integers. Print the frozenset."
   ]
  },
  {
   "cell_type": "code",
   "execution_count": 15,
   "id": "62441c44",
   "metadata": {},
   "outputs": [
    {
     "name": "stdout",
     "output_type": "stream",
     "text": [
      "frozenset({1, 2, 3, 4, 5})\n"
     ]
    }
   ],
   "source": [
    "fs = frozenset(range(1, 6))\n",
    "print(fs)"
   ]
  },
  {
   "cell_type": "markdown",
   "id": "c8a5ebb0",
   "metadata": {},
   "source": [
    "### Assignment 9: Set and List Conversion\n",
    "Create a set with the first 5 positive integers. Convert it to a list, append the number 6, and \n",
    "convert it back to a set. Print the resulting set."
   ]
  },
  {
   "cell_type": "code",
   "execution_count": 1,
   "id": "71d37130",
   "metadata": {},
   "outputs": [
    {
     "name": "stdout",
     "output_type": "stream",
     "text": [
      "{1, 2, 3, 4, 5, 6}\n"
     ]
    }
   ],
   "source": [
    "s = set(range(1, 6))\n",
    "lst = list(s)\n",
    "lst.append(6)\n",
    "s = set(lst)\n",
    "print(s)"
   ]
  }
 ],
 "metadata": {
  "kernelspec": {
   "display_name": "myenv",
   "language": "python",
   "name": "python3"
  },
  "language_info": {
   "codemirror_mode": {
    "name": "ipython",
    "version": 3
   },
   "file_extension": ".py",
   "mimetype": "text/x-python",
   "name": "python",
   "nbconvert_exporter": "python",
   "pygments_lexer": "ipython3",
   "version": "3.11.11"
  }
 },
 "nbformat": 4,
 "nbformat_minor": 5
}
