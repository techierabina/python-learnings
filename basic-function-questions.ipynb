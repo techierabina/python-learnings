{
 "cells": [
  {
   "cell_type": "markdown",
   "id": "2056706f",
   "metadata": {},
   "source": [
    "### Assignment 1: Simple Function\n",
    "Define a function that takes a single integer as input and returns its square.\n",
    "Test the function with different inputs."
   ]
  },
  {
   "cell_type": "code",
   "execution_count": null,
   "id": "2373a52c",
   "metadata": {},
   "outputs": [],
   "source": [
    "def square(number):\n",
    "   return number**2\n",
    "\n",
    "user_input=int(input(\"Enter a number\"))\n",
    "square(user_input)"
   ]
  },
  {
   "cell_type": "markdown",
   "id": "e85d5770",
   "metadata": {},
   "source": [
    "### Assignment 2: Multiple Arguments\n",
    "Define a function that takes two integers as input and returns their sum. \n",
    "Test the function with different inputs."
   ]
  },
  {
   "cell_type": "code",
   "execution_count": null,
   "id": "ead38301",
   "metadata": {},
   "outputs": [],
   "source": [
    "def add(a,b):\n",
    "    return a+b\n",
    "\n",
    "num1=int(input(\"Enter the first number: \"))\n",
    "num2=int(input(\"Enter the second number: \"))\n",
    "result=add(num1,num2)\n",
    "print(\"The sum of integer is: \",result)"
   ]
  },
  {
   "cell_type": "markdown",
   "id": "276171c6",
   "metadata": {},
   "source": [
    "### Assignment 3: Default Arguments\n",
    "Define a function that takes two integers as input and returns their sum. \n",
    "The second integer should have a default value of 5. Test the function with different inputs."
   ]
  },
  {
   "cell_type": "code",
   "execution_count": null,
   "id": "0d484a99",
   "metadata": {},
   "outputs": [],
   "source": [
    "def add(a,b=5):\n",
    "    return a+b\n",
    "\n",
    "print(add(3))\n",
    "print(add(4,7))"
   ]
  },
  {
   "cell_type": "markdown",
   "id": "6d5badf1",
   "metadata": {},
   "source": [
    "### Assignment 4: Keyword Arguments\n",
    "Define a function that takes three named arguments: first_name, last_name, and age, and \n",
    "returns a formatted string. Test the function with different inputs."
   ]
  },
  {
   "cell_type": "code",
   "execution_count": null,
   "id": "3fc54f75",
   "metadata": {},
   "outputs": [],
   "source": [
    "def sentence(first_name,last_name,age):\n",
    "    return print(f\"{first_name} {last_name} is {age} years old\")\n",
    "\n",
    "sentence(\"Shrimpy\",\"Shrimp\",24)\n",
    "sentence(\"Panda\",\"Express\",1)"
   ]
  },
  {
   "cell_type": "markdown",
   "id": "4e261821",
   "metadata": {},
   "source": [
    "### Assignment 5: Variable-length Arguments\n",
    "Define a function that takes a variable number of integer arguments and returns their product. \n",
    "Test the function with different inputs."
   ]
  },
  {
   "cell_type": "code",
   "execution_count": null,
   "id": "eeecc7b8",
   "metadata": {},
   "outputs": [],
   "source": [
    "def multiply(*args):\n",
    "    product=1\n",
    "    for x in args:\n",
    "        product=product*x\n",
    "    return product\n",
    "\n",
    "print(multiply(1,2,3,4,5))\n",
    "print(multiply(8,5,9))"
   ]
  }
 ],
 "metadata": {
  "kernelspec": {
   "display_name": "myenv",
   "language": "python",
   "name": "python3"
  },
  "language_info": {
   "codemirror_mode": {
    "name": "ipython",
    "version": 3
   },
   "file_extension": ".py",
   "mimetype": "text/x-python",
   "name": "python",
   "nbconvert_exporter": "python",
   "pygments_lexer": "ipython3",
   "version": "3.11.11"
  }
 },
 "nbformat": 4,
 "nbformat_minor": 5
}
