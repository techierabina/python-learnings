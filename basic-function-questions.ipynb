{
 "cells": [
  {
   "cell_type": "markdown",
   "id": "2056706f",
   "metadata": {},
   "source": [
    "### Assignment 1: Simple Function\n",
    "Define a function that takes a single integer as input and returns its square.\n",
    "Test the function with different inputs."
   ]
  },
  {
   "cell_type": "code",
   "execution_count": null,
   "id": "2373a52c",
   "metadata": {},
   "outputs": [],
   "source": [
    "def square(number):\n",
    "   return number**2\n",
    "\n",
    "user_input=int(input(\"Enter a number\"))\n",
    "square(user_input)"
   ]
  },
  {
   "cell_type": "markdown",
   "id": "e85d5770",
   "metadata": {},
   "source": [
    "### Assignment 2: Multiple Arguments\n",
    "Define a function that takes two integers as input and returns their sum. \n",
    "Test the function with different inputs."
   ]
  },
  {
   "cell_type": "code",
   "execution_count": null,
   "id": "ead38301",
   "metadata": {},
   "outputs": [],
   "source": [
    "def add(a,b):\n",
    "    return a+b\n",
    "\n",
    "num1=int(input(\"Enter the first number: \"))\n",
    "num2=int(input(\"Enter the second number: \"))\n",
    "result=add(num1,num2)\n",
    "print(\"The sum of integer is: \",result)"
   ]
  },
  {
   "cell_type": "markdown",
   "id": "276171c6",
   "metadata": {},
   "source": [
    "### Assignment 3: Default Arguments\n",
    "Define a function that takes two integers as input and returns their sum. \n",
    "The second integer should have a default value of 5. Test the function with different inputs."
   ]
  },
  {
   "cell_type": "code",
   "execution_count": null,
   "id": "0d484a99",
   "metadata": {},
   "outputs": [],
   "source": [
    "def add(a,b=5):\n",
    "    return a+b\n",
    "\n",
    "print(add(3))\n",
    "print(add(4,7))"
   ]
  },
  {
   "cell_type": "markdown",
   "id": "6d5badf1",
   "metadata": {},
   "source": [
    "### Assignment 4: Keyword Arguments\n",
    "Define a function that takes three named arguments: first_name, last_name, and age, and \n",
    "returns a formatted string. Test the function with different inputs."
   ]
  },
  {
   "cell_type": "code",
   "execution_count": null,
   "id": "3fc54f75",
   "metadata": {},
   "outputs": [],
   "source": [
    "def sentence(first_name,last_name,age):\n",
    "    return print(f\"{first_name} {last_name} is {age} years old\")\n",
    "\n",
    "sentence(\"Shrimpy\",\"Shrimp\",24)\n",
    "sentence(\"Panda\",\"Express\",1)"
   ]
  },
  {
   "cell_type": "markdown",
   "id": "4e261821",
   "metadata": {},
   "source": [
    "### Assignment 5: Variable-length Arguments\n",
    "Define a function that takes a variable number of integer arguments and returns their product. \n",
    "Test the function with different inputs."
   ]
  },
  {
   "cell_type": "code",
   "execution_count": null,
   "id": "eeecc7b8",
   "metadata": {},
   "outputs": [],
   "source": [
    "def multiply(*args):\n",
    "    product=1\n",
    "    for x in args:\n",
    "        product=product*x\n",
    "    return product\n",
    "\n",
    "print(multiply(1,2,3,4,5))\n",
    "print(multiply(8,5,9))"
   ]
  },
  {
   "cell_type": "markdown",
   "id": "8526fdc6",
   "metadata": {},
   "source": [
    "### Assignment 6: Nested Functions\n",
    "Define a function that contains another function inside it. The outer function should take two integers \n",
    "as input and return the result of the inner function, which multiplies the two integers. Test the function with different inputs."
   ]
  },
  {
   "cell_type": "code",
   "execution_count": null,
   "id": "ee763b13",
   "metadata": {},
   "outputs": [],
   "source": [
    "def outerFun(x,y):\n",
    "    def innerFun(a,b):\n",
    "        return a*b\n",
    "    return innerFun(x,y)\n",
    "\n",
    "print(outerFun(3,5))\n",
    "print(outerFun(8,9))\n",
    "\n"
   ]
  },
  {
   "cell_type": "markdown",
   "id": "0d75de4e",
   "metadata": {},
   "source": [
    "### Assignment 7: Returning Multiple Values\n",
    "Define a function that takes a single integer as input and returns the integer squared, cubed, \n",
    "and raised to the power of four. Test the function with different inputs."
   ]
  },
  {
   "cell_type": "code",
   "execution_count": null,
   "id": "a447fd02",
   "metadata": {},
   "outputs": [],
   "source": [
    "def powers(num):\n",
    "    return num**2, num**3, num**4\n",
    "print(powers(4))\n",
    "print(powers(3))"
   ]
  },
  {
   "cell_type": "markdown",
   "id": "9fb536cf",
   "metadata": {},
   "source": [
    "### Assignment 8: Recursive Function\n",
    "Define a recursive function that calculates the factorial of a given number. \n",
    "Test the function with different inputs."
   ]
  },
  {
   "cell_type": "code",
   "execution_count": null,
   "id": "c7bc97f8",
   "metadata": {},
   "outputs": [],
   "source": [
    "def fact(num):\n",
    "    if num==0:\n",
    "        return 1\n",
    "    else:\n",
    "        return num*fact(num-1)\n",
    "    \n",
    "print(fact(4))\n",
    "print(fact(5))\n",
    "print(fact(1))"
   ]
  },
  {
   "cell_type": "markdown",
   "id": "d220b573",
   "metadata": {},
   "source": [
    "### Assignment 9: Lambda Function\n",
    "Define a lambda function that takes two integers as input and returns their sum. \n",
    "Test the lambda function with different inputs."
   ]
  },
  {
   "cell_type": "code",
   "execution_count": null,
   "id": "c8a1067b",
   "metadata": {},
   "outputs": [],
   "source": [
    "add=lambda x,y:x+y\n",
    "print(add(4,7))\n",
    "print(add(231,542))"
   ]
  },
  {
   "cell_type": "markdown",
   "id": "a3511fb7",
   "metadata": {},
   "source": [
    "### Assignment 10: Map Function\n",
    "Use the map function to apply a lambda function that squares \n",
    "each number in a list of integers. Test with different lists."
   ]
  },
  {
   "cell_type": "code",
   "execution_count": null,
   "id": "b79ebe1f",
   "metadata": {},
   "outputs": [],
   "source": [
    "lst=[1,2,3,4,6,7,8,9]\n",
    "square=list((map(lambda x:x*2, lst)))\n",
    "print(square)"
   ]
  },
  {
   "cell_type": "markdown",
   "id": "91a6309f",
   "metadata": {},
   "source": [
    "### Assignment 11: Filter Function\n",
    "Use the filter function to filter out all odd numbers from a list of integers. Test with different lists."
   ]
  },
  {
   "cell_type": "code",
   "execution_count": null,
   "id": "efdd33ba",
   "metadata": {},
   "outputs": [],
   "source": [
    "lst=[21,33,445,643,7658,22,44,33,23,67,99,44,90,68]\n",
    "filtered=list(filter(lambda x:x%2==1,lst))\n",
    "print(filtered)"
   ]
  },
  {
   "cell_type": "markdown",
   "id": "5df590d4",
   "metadata": {},
   "source": [
    "### Assignment 12: Function Decorator\n",
    "Define a decorator function that prints 'Executing function...' before executing a function and\n",
    "'Function executed.' after executing it. Apply this decorator to a function that takes a list of \n",
    "integers and returns their sum. Test the decorated function with different lists."
   ]
  },
  {
   "cell_type": "code",
   "execution_count": null,
   "id": "e5dd0c57",
   "metadata": {},
   "outputs": [],
   "source": [
    "def execution_logger(func):\n",
    "    def wrapper(*args, **kwargs):\n",
    "        print(\"Executing function...\")\n",
    "        result = func(*args, **kwargs)\n",
    "        print(\"Function executed.\")\n",
    "        return result\n",
    "    return wrapper\n",
    "\n",
    "@execution_logger\n",
    "def sum_list(numbers):\n",
    "    return sum(numbers)\n",
    "\n",
    "# Test\n",
    "print(sum_list([1, 2, 3, 4, 5]))\n",
    "print(sum_list([10, 20, 30]))\n",
    "print(sum_list([]))\n"
   ]
  },
  {
   "cell_type": "markdown",
   "id": "5070a3ca",
   "metadata": {},
   "source": [
    "### Assignment 13: Function with *args and **kwargs\n",
    "Define a function that takes variable-length arguments and keyword arguments \n",
    "and prints them. Test the function with different inputs."
   ]
  },
  {
   "cell_type": "code",
   "execution_count": null,
   "id": "2ea7078c",
   "metadata": {},
   "outputs": [],
   "source": [
    "def fun(*args,**kwargs):\n",
    "    for c in args:\n",
    "        print(c)\n",
    "    for x,y in kwargs.items():\n",
    "        print(f\"{x}:{y}\")\n",
    "\n",
    "print(fun(\"a\",\"b\",\"c\",\"d\",\"e\",a=\"raboma\",c=\"rsaga\",d=\"mats\"))\n",
    "print(\"------\")\n",
    "print(fun(1,2,3,4,a=234,b=45436,d=452))"
   ]
  },
  {
   "cell_type": "markdown",
   "id": "adc05d43",
   "metadata": {},
   "source": [
    "### Assignment 14: Higher-Order Function\n",
    "Define a higher-order function that takes a function and a list of integers as arguments, \n",
    "and applies the function to each integer in the list. Test with different functions and lists."
   ]
  },
  {
   "cell_type": "code",
   "execution_count": null,
   "id": "1af765a5",
   "metadata": {},
   "outputs": [],
   "source": [
    "# Higher-order function\n",
    "def apply_function(func, lst):\n",
    "    return [func(x) for x in lst]\n",
    "\n",
    "# Sample functions to test\n",
    "def square(x):\n",
    "    return x * x\n",
    "\n",
    "def double(x):\n",
    "    return x * 2\n",
    "\n",
    "def is_even(x):\n",
    "    return x % 2 == 0\n",
    "\n",
    "# Test data\n",
    "numbers = [1, 2, 3, 4, 5]\n",
    "\n",
    "# Apply functions\n",
    "print(\"Squares:\", apply_function(square, numbers))\n",
    "print(\"Doubles:\", apply_function(double, numbers))\n",
    "print(\"Even Check:\", apply_function(is_even, numbers))\n"
   ]
  },
  {
   "cell_type": "markdown",
   "id": "85b3d3fa",
   "metadata": {},
   "source": [
    "### Assignment 15: Function Documentation\n",
    "\n",
    "Define a function with a docstring that explains what the function does, its parameters, and its return value. Print the function's docstring."
   ]
  },
  {
   "cell_type": "code",
   "execution_count": null,
   "id": "57c8538e",
   "metadata": {},
   "outputs": [],
   "source": [
    "def multiply(a, b):\n",
    "    \"\"\"\n",
    "    Multiply two numbers.\n",
    "\n",
    "    Parameters:\n",
    "    a (int or float): The first number.\n",
    "    b (int or float): The second number.\n",
    "\n",
    "    Returns:\n",
    "    int or float: The product of a and b.\n",
    "    \"\"\"\n",
    "    return a * b\n",
    "\n",
    "# Print the function's docstring\n",
    "print(multiply.__doc__)\n"
   ]
  }
 ],
 "metadata": {
  "kernelspec": {
   "display_name": "myenv",
   "language": "python",
   "name": "python3"
  },
  "language_info": {
   "codemirror_mode": {
    "name": "ipython",
    "version": 3
   },
   "file_extension": ".py",
   "mimetype": "text/x-python",
   "name": "python",
   "nbconvert_exporter": "python",
   "pygments_lexer": "ipython3",
   "version": "3.11.11"
  }
 },
 "nbformat": 4,
 "nbformat_minor": 5
}
