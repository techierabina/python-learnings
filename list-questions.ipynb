{
 "cells": [
  {
   "cell_type": "markdown",
   "id": "cb524574",
   "metadata": {},
   "source": [
    "### Assignment 1: Creating and Accessing Lists\n",
    "Create a list of the first 20 positive integers. Print the list."
   ]
  },
  {
   "cell_type": "code",
   "execution_count": null,
   "id": "0c6f14d3",
   "metadata": {},
   "outputs": [],
   "source": [
    "positive_numbers=[x for x in range(1,21)]\n",
    "print(positive_numbers)"
   ]
  },
  {
   "cell_type": "markdown",
   "id": "8c55c914",
   "metadata": {},
   "source": [
    "### Assignment 2: Accessing List Elements\n",
    "Print the first, middle, and last elements of the list created in Assignment 1."
   ]
  },
  {
   "cell_type": "code",
   "execution_count": null,
   "id": "8e39b7a7",
   "metadata": {},
   "outputs": [],
   "source": [
    "first_element=positive_numbers[0]\n",
    "middle_element=positive_numbers[len(positive_numbers)//2]\n",
    "last_element=positive_numbers[-1]\n",
    "print(\"First element:\",first_element)\n",
    "print(\"Middle element:\",middle_element)\n",
    "print(\"Last element:\",last_element)"
   ]
  },
  {
   "cell_type": "markdown",
   "id": "29ebec94",
   "metadata": {},
   "source": [
    "### Assignment 3: List Slicing\n",
    "Print the first five elements, the last five elements, and the elements from index 5 to 15 of the list created in Assignment 1."
   ]
  },
  {
   "cell_type": "code",
   "execution_count": null,
   "id": "a7f386c3",
   "metadata": {},
   "outputs": [],
   "source": [
    "first_five=positive_numbers[0:5]\n",
    "last_five=positive_numbers[-5:]\n",
    "middle_five=positive_numbers[5:16]\n",
    "print(\"First five elements:\",first_five)\n",
    "print(\"Last five elements:\",last_five)\n",
    "print(\"Elements from 5 to 15:\",middle_five)"
   ]
  },
  {
   "cell_type": "markdown",
   "id": "a0b3a4c6",
   "metadata": {},
   "source": [
    "### Assignment 4: List Comprehensions\n",
    "Create a new list containing the squares of the first 10 positive integers using a list comprehension. Print the new list."
   ]
  },
  {
   "cell_type": "code",
   "execution_count": null,
   "id": "bc7a73de",
   "metadata": {},
   "outputs": [],
   "source": [
    "square_list=[x**2 for x in range(1,11)]\n",
    "print(square_list)"
   ]
  },
  {
   "cell_type": "markdown",
   "id": "27cc5b27",
   "metadata": {},
   "source": [
    "### Assignment 5: Filtering Lists\n",
    "Create a new list containing only the even numbers from the list created in Assignment 1 using a list comprehension. Print the new list."
   ]
  },
  {
   "cell_type": "code",
   "execution_count": null,
   "id": "4b04ae1f",
   "metadata": {},
   "outputs": [],
   "source": [
    "even_numbers=[x for x in positive_numbers if x%2==0]\n",
    "print(even_numbers)"
   ]
  },
  {
   "cell_type": "markdown",
   "id": "c1aebcd3",
   "metadata": {},
   "source": [
    "### Assignment 6: List Methods\n",
    "Create a list of random numbers and sort it in ascending and descending order. \n",
    "Remove the duplicates from the list and print the modified list."
   ]
  },
  {
   "cell_type": "code",
   "execution_count": null,
   "id": "9bc360cf",
   "metadata": {},
   "outputs": [],
   "source": [
    "import random\n",
    "random_list=[random.randint(1,100) for x in range(10)]\n",
    "print(\"Random list:\",random_list) \n",
    "random_list.sort() #here if i assign random_list.sort() to any other list it return none as the sort() sorts the list inplace\n",
    "ascending_order=random_list\n",
    "descending_order=random_list[::-1] #can also be descending_order=sorted(random_list, reverse=True)\n",
    "print(\"Ascending order:\",ascending_order)\n",
    "print(\"Descending order:\",descending_order) \n",
    "unique_list=list(set(random_list))\n",
    "print(\"List without duplicates: \",unique_list)"
   ]
  },
  {
   "cell_type": "markdown",
   "id": "307e689e",
   "metadata": {},
   "source": [
    "### Assignment 7: Nested Lists\n",
    "Create a nested list representing a 3x3 matrix and print the matrix. \n",
    "Access and print the element at the second row and third column."
   ]
  },
  {
   "cell_type": "code",
   "execution_count": null,
   "id": "78c2b40a",
   "metadata": {},
   "outputs": [],
   "source": [
    "matrix=[[1,23,55],\n",
    "        [22,4,66],\n",
    "        [1,33,55]]\n",
    "print(\"Matrix:\")\n",
    "for row in matrix:\n",
    "    print(row)\n",
    "element=matrix[1][2]\n",
    "print(\"The seond row and third column element:\",element)"
   ]
  },
  {
   "cell_type": "markdown",
   "id": "e47afb79",
   "metadata": {},
   "source": [
    "### Assignment 8: List of Dictionaries\n",
    "Create a list of dictionaries where each dictionary represents a student with keys 'name' and 'score'.\n",
    "Sort the list of dictionaries by the 'score' in descending order and print the sorted list."
   ]
  },
  {
   "cell_type": "code",
   "execution_count": null,
   "id": "ebfdbbf0",
   "metadata": {},
   "outputs": [],
   "source": [
    "students=[{\"name\":\"chocolate\",\"score\":99},\n",
    "         {\"name\":\"iceream\",\"score\":93},\n",
    "         {\"name\":\"kola\",\"score\":78},\n",
    "         {\"name\":\"froggy\",\"score\":89}\n",
    "]\n",
    "sorted_students = sorted(students, key=lambda student: student[\"score\"], reverse=True)\n",
    "print(\"Student stored by score: \")\n",
    "for student in sorted_students:\n",
    "    print(student)\n"
   ]
  },
  {
   "cell_type": "markdown",
   "id": "699970b6",
   "metadata": {},
   "source": [
    "### Assignment 9: Matrix Transposition\n",
    "Write a function that takes a 3x3 matrix (nested list) as input and returns its transpose.\n",
    " Print the original and transposed matrices."
   ]
  },
  {
   "cell_type": "code",
   "execution_count": null,
   "id": "81011eb3",
   "metadata": {},
   "outputs": [],
   "source": [
    "def transpose_matrix(matrix):\n",
    "    transposed=[]\n",
    "    for i in range(3):\n",
    "        new_row=[]\n",
    "        for j in range(3):\n",
    "            new_row.append(matrix[j][i])\n",
    "        transposed.append(new_row)\n",
    "    return transposed\n",
    "original_matrix=[[11,22,33],\n",
    "                 [66,88,99],\n",
    "                 [1,77,44]]\n",
    "transposed_matrix=transpose_matrix(original_matrix)\n",
    "print(\"Original Matrix:\")\n",
    "for row in original_matrix:\n",
    "    print(row)\n",
    "print(\"Transposed Matrix:\")\n",
    "for row in transposed_matrix:\n",
    "    print(row)"
   ]
  },
  {
   "cell_type": "markdown",
   "id": "ca91141c",
   "metadata": {},
   "source": [
    "### Assignment 10: Flattening a Nested List\n",
    "Write a function that takes a nested list and flattens it into a single list.\n",
    " Print the original and flattened lists."
   ]
  },
  {
   "cell_type": "code",
   "execution_count": 2,
   "id": "3f4fab5e",
   "metadata": {},
   "outputs": [
    {
     "name": "stdout",
     "output_type": "stream",
     "text": [
      "Original list: [[1, 2, 3], [44, 66], [0, 78, 44]]\n",
      "Flatten list: [1, 2, 3, 44, 66, 0, 78, 44]\n"
     ]
    }
   ],
   "source": [
    "def flattened_list(list):\n",
    "    f_list=[]\n",
    "    for elements in list:\n",
    "        for items in elements:\n",
    "            f_list.append(items)\n",
    "    return f_list\n",
    "\n",
    "original_list=[[1,2,3,],[44,66],[0,78,44]]\n",
    "flattened=flattened_list(original_list)\n",
    "print(\"Original list:\", original_list)\n",
    "print(\"Flatten list:\",flattened)"
   ]
  },
  {
   "cell_type": "markdown",
   "id": "b0e97c98",
   "metadata": {},
   "source": [
    "### Assignment 11: List Manipulation\n",
    "Create a list of the first 10 positive integers. Remove the elements at indices 2, 4, and 6, and\n",
    "insert the element '99' at index 5. Print the modified list."
   ]
  },
  {
   "cell_type": "code",
   "execution_count": 8,
   "id": "c2b1c5ad",
   "metadata": {},
   "outputs": [
    {
     "name": "stdout",
     "output_type": "stream",
     "text": [
      "Original list: [1, 2, 3, 4, 5, 6, 7, 8, 9, 10]\n",
      "Modified list: [1, 2, 4, 6, 8, 99, 9, 10]\n"
     ]
    }
   ],
   "source": [
    "listt=[x for x in range(1,11)]\n",
    "print(\"Original list:\",listt)\n",
    "del listt[6]\n",
    "del listt[4]\n",
    "del listt[2]\n",
    "listt.insert(5,99)\n",
    "print(\"Modified list:\",listt)"
   ]
  },
  {
   "cell_type": "markdown",
   "id": "9349956a",
   "metadata": {},
   "source": [
    "### Assignment 12: List Zipping\n",
    "Create two lists of the same length. Use the `zip` function to\n",
    "combine these lists into a list of tuples and print the result."
   ]
  },
  {
   "cell_type": "code",
   "execution_count": null,
   "id": "28520c7b",
   "metadata": {},
   "outputs": [
    {
     "ename": "TypeError",
     "evalue": "'list' object is not callable",
     "output_type": "error",
     "traceback": [
      "\u001b[31m---------------------------------------------------------------------------\u001b[39m",
      "\u001b[31mTypeError\u001b[39m                                 Traceback (most recent call last)",
      "\u001b[36mCell\u001b[39m\u001b[36m \u001b[39m\u001b[32mIn[12]\u001b[39m\u001b[32m, line 4\u001b[39m\n\u001b[32m      1\u001b[39m list1 = [\u001b[33m\"\u001b[39m\u001b[33mscience\u001b[39m\u001b[33m\"\u001b[39m, \u001b[33m\"\u001b[39m\u001b[33mscial\u001b[39m\u001b[33m\"\u001b[39m, \u001b[33m\"\u001b[39m\u001b[33mmaths\u001b[39m\u001b[33m\"\u001b[39m, \u001b[33m\"\u001b[39m\u001b[33mgk\u001b[39m\u001b[33m\"\u001b[39m, \u001b[33m\"\u001b[39m\u001b[33mnepali\u001b[39m\u001b[33m\"\u001b[39m]\n\u001b[32m      2\u001b[39m list2 = [\u001b[32m33\u001b[39m, \u001b[32m66\u001b[39m, \u001b[32m77\u001b[39m, \u001b[32m88\u001b[39m, \u001b[32m45\u001b[39m]\n\u001b[32m----> \u001b[39m\u001b[32m4\u001b[39m new_list = \u001b[38;5;28;43mlist\u001b[39;49m\u001b[43m(\u001b[49m\u001b[38;5;28;43mzip\u001b[39;49m\u001b[43m(\u001b[49m\u001b[43mlist1\u001b[49m\u001b[43m,\u001b[49m\u001b[43m \u001b[49m\u001b[43mlist2\u001b[49m\u001b[43m)\u001b[49m\u001b[43m)\u001b[49m\n\u001b[32m      5\u001b[39m \u001b[38;5;28mprint\u001b[39m(\u001b[33m\"\u001b[39m\u001b[33mMerged list:\u001b[39m\u001b[33m\"\u001b[39m, new_list)\n",
      "\u001b[31mTypeError\u001b[39m: 'list' object is not callable"
     ]
    }
   ],
   "source": [
    "list1 = [\"science\", \"scial\", \"maths\", \"gk\", \"nepali\"]\n",
    "list2 = [33, 66, 77, 88, 45]\n",
    "new_list = list(zip(list1, list2))\n",
    "print(\"Merged list:\", new_list)\n"
   ]
  }
 ],
 "metadata": {
  "kernelspec": {
   "display_name": "myenv",
   "language": "python",
   "name": "python3"
  },
  "language_info": {
   "codemirror_mode": {
    "name": "ipython",
    "version": 3
   },
   "file_extension": ".py",
   "mimetype": "text/x-python",
   "name": "python",
   "nbconvert_exporter": "python",
   "pygments_lexer": "ipython3",
   "version": "3.11.11"
  }
 },
 "nbformat": 4,
 "nbformat_minor": 5
}
