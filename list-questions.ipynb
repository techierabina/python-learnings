{
 "cells": [
  {
   "cell_type": "markdown",
   "id": "cb524574",
   "metadata": {},
   "source": [
    "### Assignment 1: Creating and Accessing Lists\n",
    "Create a list of the first 20 positive integers. Print the list."
   ]
  },
  {
   "cell_type": "code",
   "execution_count": null,
   "id": "0c6f14d3",
   "metadata": {},
   "outputs": [],
   "source": [
    "positive_numbers=[x for x in range(1,21)]\n",
    "print(positive_numbers)"
   ]
  },
  {
   "cell_type": "markdown",
   "id": "8c55c914",
   "metadata": {},
   "source": [
    "### Assignment 2: Accessing List Elements\n",
    "Print the first, middle, and last elements of the list created in Assignment 1."
   ]
  },
  {
   "cell_type": "code",
   "execution_count": null,
   "id": "8e39b7a7",
   "metadata": {},
   "outputs": [],
   "source": [
    "first_element=positive_numbers[0]\n",
    "middle_element=positive_numbers[len(positive_numbers)//2]\n",
    "last_element=positive_numbers[-1]\n",
    "print(\"First element:\",first_element)\n",
    "print(\"Middle element:\",middle_element)\n",
    "print(\"Last element:\",last_element)"
   ]
  },
  {
   "cell_type": "markdown",
   "id": "29ebec94",
   "metadata": {},
   "source": [
    "### Assignment 3: List Slicing\n",
    "Print the first five elements, the last five elements, and the elements from index 5 to 15 of the list created in Assignment 1."
   ]
  },
  {
   "cell_type": "code",
   "execution_count": null,
   "id": "a7f386c3",
   "metadata": {},
   "outputs": [],
   "source": [
    "first_five=positive_numbers[0:5]\n",
    "last_five=positive_numbers[-5:]\n",
    "middle_five=positive_numbers[5:16]\n",
    "print(\"First five elements:\",first_five)\n",
    "print(\"Last five elements:\",last_five)\n",
    "print(\"Elements from 5 to 15:\",middle_five)"
   ]
  },
  {
   "cell_type": "markdown",
   "id": "a0b3a4c6",
   "metadata": {},
   "source": [
    "### Assignment 4: List Comprehensions\n",
    "Create a new list containing the squares of the first 10 positive integers using a list comprehension. Print the new list."
   ]
  },
  {
   "cell_type": "code",
   "execution_count": 22,
   "id": "bc7a73de",
   "metadata": {},
   "outputs": [
    {
     "name": "stdout",
     "output_type": "stream",
     "text": [
      "[1, 4, 9, 16, 25, 36, 49, 64, 81, 100]\n"
     ]
    }
   ],
   "source": [
    "square_list=[x**2 for x in range(1,11)]\n",
    "print(square_list)"
   ]
  },
  {
   "cell_type": "markdown",
   "id": "27cc5b27",
   "metadata": {},
   "source": [
    "### Assignment 5: Filtering Lists\n",
    "Create a new list containing only the even numbers from the list created in Assignment 1 using a list comprehension. Print the new list."
   ]
  },
  {
   "cell_type": "code",
   "execution_count": 23,
   "id": "4b04ae1f",
   "metadata": {},
   "outputs": [
    {
     "name": "stdout",
     "output_type": "stream",
     "text": [
      "[2, 4, 6, 8, 10, 12, 14, 16, 18, 20]\n"
     ]
    }
   ],
   "source": [
    "even_numbers=[x for x in positive_numbers if x%2==0]\n",
    "print(even_numbers)"
   ]
  },
  {
   "cell_type": "code",
   "execution_count": null,
   "id": "726d40c1",
   "metadata": {},
   "outputs": [],
   "source": []
  }
 ],
 "metadata": {
  "kernelspec": {
   "display_name": "myenv",
   "language": "python",
   "name": "python3"
  },
  "language_info": {
   "codemirror_mode": {
    "name": "ipython",
    "version": 3
   },
   "file_extension": ".py",
   "mimetype": "text/x-python",
   "name": "python",
   "nbconvert_exporter": "python",
   "pygments_lexer": "ipython3",
   "version": "3.11.11"
  }
 },
 "nbformat": 4,
 "nbformat_minor": 5
}
