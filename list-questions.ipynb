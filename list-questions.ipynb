{
 "cells": [
  {
   "cell_type": "markdown",
   "id": "cb524574",
   "metadata": {},
   "source": [
    "### Assignment 1: Creating and Accessing Lists\n",
    "Create a list of the first 20 positive integers. Print the list."
   ]
  },
  {
   "cell_type": "code",
   "execution_count": null,
   "id": "0c6f14d3",
   "metadata": {},
   "outputs": [],
   "source": [
    "positive_numbers=[x for x in range(1,21)]\n",
    "print(positive_numbers)"
   ]
  },
  {
   "cell_type": "markdown",
   "id": "8c55c914",
   "metadata": {},
   "source": [
    "### Assignment 2: Accessing List Elements\n",
    "Print the first, middle, and last elements of the list created in Assignment 1."
   ]
  },
  {
   "cell_type": "code",
   "execution_count": null,
   "id": "8e39b7a7",
   "metadata": {},
   "outputs": [],
   "source": [
    "first_element=positive_numbers[0]\n",
    "middle_element=positive_numbers[len(positive_numbers)//2]\n",
    "last_element=positive_numbers[-1]\n",
    "print(\"First element:\",first_element)\n",
    "print(\"Middle element:\",middle_element)\n",
    "print(\"Last element:\",last_element)"
   ]
  },
  {
   "cell_type": "markdown",
   "id": "29ebec94",
   "metadata": {},
   "source": [
    "### Assignment 3: List Slicing\n",
    "Print the first five elements, the last five elements, and the elements from index 5 to 15 of the list created in Assignment 1."
   ]
  },
  {
   "cell_type": "code",
   "execution_count": null,
   "id": "a7f386c3",
   "metadata": {},
   "outputs": [],
   "source": [
    "first_five=positive_numbers[0:5]\n",
    "last_five=positive_numbers[-5:]\n",
    "middle_five=positive_numbers[5:16]\n",
    "print(\"First five elements:\",first_five)\n",
    "print(\"Last five elements:\",last_five)\n",
    "print(\"Elements from 5 to 15:\",middle_five)"
   ]
  },
  {
   "cell_type": "markdown",
   "id": "a0b3a4c6",
   "metadata": {},
   "source": [
    "### Assignment 4: List Comprehensions\n",
    "Create a new list containing the squares of the first 10 positive integers using a list comprehension. Print the new list."
   ]
  },
  {
   "cell_type": "code",
   "execution_count": null,
   "id": "bc7a73de",
   "metadata": {},
   "outputs": [],
   "source": [
    "square_list=[x**2 for x in range(1,11)]\n",
    "print(square_list)"
   ]
  },
  {
   "cell_type": "markdown",
   "id": "27cc5b27",
   "metadata": {},
   "source": [
    "### Assignment 5: Filtering Lists\n",
    "Create a new list containing only the even numbers from the list created in Assignment 1 using a list comprehension. Print the new list."
   ]
  },
  {
   "cell_type": "code",
   "execution_count": null,
   "id": "4b04ae1f",
   "metadata": {},
   "outputs": [],
   "source": [
    "even_numbers=[x for x in positive_numbers if x%2==0]\n",
    "print(even_numbers)"
   ]
  },
  {
   "cell_type": "markdown",
   "id": "c1aebcd3",
   "metadata": {},
   "source": [
    "### Assignment 6: List Methods\n",
    "Create a list of random numbers and sort it in ascending and descending order. \n",
    "Remove the duplicates from the list and print the modified list."
   ]
  },
  {
   "cell_type": "code",
   "execution_count": 18,
   "id": "9bc360cf",
   "metadata": {},
   "outputs": [
    {
     "name": "stdout",
     "output_type": "stream",
     "text": [
      "Random list: [29, 75, 94, 19, 68, 50, 88, 25, 74, 28]\n",
      "Ascending order: [19, 25, 28, 29, 50, 68, 74, 75, 88, 94]\n",
      "Descending order: [94, 88, 75, 74, 68, 50, 29, 28, 25, 19]\n",
      "List without duplicates:  [68, 74, 75, 50, 19, 88, 25, 28, 29, 94]\n"
     ]
    }
   ],
   "source": [
    "import random\n",
    "random_list=[random.randint(1,100) for x in range(10)]\n",
    "print(\"Random list:\",random_list) \n",
    "random_list.sort() #here if i assign random_list.sort() to any other list it return none as the sort() sorts the list inplace\n",
    "ascending_order=random_list\n",
    "descending_order=random_list[::-1] #can also be descending_order=sorted(random_list, reverse=True)\n",
    "print(\"Ascending order:\",ascending_order)\n",
    "print(\"Descending order:\",descending_order) \n",
    "unique_list=list(set(random_list))\n",
    "print(\"List without duplicates: \",unique_list)"
   ]
  },
  {
   "cell_type": "markdown",
   "id": "307e689e",
   "metadata": {},
   "source": [
    "### Assignment 7: Nested Lists\n",
    "Create a nested list representing a 3x3 matrix and print the matrix. \n",
    "Access and print the element at the second row and third column."
   ]
  },
  {
   "cell_type": "code",
   "execution_count": 22,
   "id": "78c2b40a",
   "metadata": {},
   "outputs": [
    {
     "name": "stdout",
     "output_type": "stream",
     "text": [
      "Matrix:\n",
      "[1, 23, 55]\n",
      "[22, 4, 66]\n",
      "[1, 33, 55]\n",
      "The seond row and third column element: 66\n"
     ]
    }
   ],
   "source": [
    "matrix=[[1,23,55],\n",
    "        [22,4,66],\n",
    "        [1,33,55]]\n",
    "print(\"Matrix:\")\n",
    "for row in matrix:\n",
    "    print(row)\n",
    "element=matrix[1][2]\n",
    "print(\"The seond row and third column element:\",element)"
   ]
  },
  {
   "cell_type": "code",
   "execution_count": null,
   "id": "e52df087",
   "metadata": {},
   "outputs": [],
   "source": []
  }
 ],
 "metadata": {
  "kernelspec": {
   "display_name": "myenv",
   "language": "python",
   "name": "python3"
  },
  "language_info": {
   "codemirror_mode": {
    "name": "ipython",
    "version": 3
   },
   "file_extension": ".py",
   "mimetype": "text/x-python",
   "name": "python",
   "nbconvert_exporter": "python",
   "pygments_lexer": "ipython3",
   "version": "3.11.11"
  }
 },
 "nbformat": 4,
 "nbformat_minor": 5
}
