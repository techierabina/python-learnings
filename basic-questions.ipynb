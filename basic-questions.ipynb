{
 "cells": [
  {
   "cell_type": "code",
   "execution_count": null,
   "id": "9ac95892",
   "metadata": {},
   "outputs": [],
   "source": [
    "###question 1\n",
    "#Write a program that asks the user to input a number and prints whether the number is positive.\n",
    "\n",
    "number=int(input(\"Enter a number\"))\n",
    "if number>=0:\n",
    "    print(\"The number is positive.\")\n",
    "else:\n",
    "    print(\"The number is negative \")"
   ]
  },
  {
   "cell_type": "code",
   "execution_count": null,
   "id": "b5796cca",
   "metadata": {},
   "outputs": [],
   "source": [
    "###Question 2 if-elif-else Statement\n",
    "#Write a program that asks the user to input a number and prints whether the number is positive, negative, or zero.\n",
    "number=int(input(\"Enter a number\"))\n",
    "if number==0:\n",
    "    print(\"The number is zero\")\n",
    "elif number>0:\n",
    "    print(\"The number is positive.\")\n",
    "else:\n",
    "    print(\"The number is negative.\")"
   ]
  },
  {
   "cell_type": "code",
   "execution_count": null,
   "id": "e47eeac7",
   "metadata": {},
   "outputs": [],
   "source": [
    "### Nested if Statement\n",
    "#Write a program that asks the user to input a number and prints whether the number is positive and even, positive and odd, or negative.\n",
    "number=int(input(\"Enter a number\"))\n",
    "if number>=0:\n",
    "    if number%2==0:\n",
    "        print(\"The number is even.\")\n",
    "    else:\n",
    "        print(\"The number is odd.\")\n",
    "else:\n",
    "    print(\"The number is negative.\")"
   ]
  },
  {
   "cell_type": "code",
   "execution_count": null,
   "id": "40854c7a",
   "metadata": {},
   "outputs": [],
   "source": [
    "### Assignment 5: for Loop\n",
    "#Write a program that prints all the numbers from 1 to 10 using a for loop.\n",
    "n=10\n",
    "for i in range(1,n+1):\n",
    "    print(i)"
   ]
  },
  {
   "cell_type": "code",
   "execution_count": null,
   "id": "8898b740",
   "metadata": {},
   "outputs": [],
   "source": [
    "\n",
    "### Assignment 6: while Loop\n",
    "#Write a program that prints all the numbers from 1 to 10 using a while loop.\n",
    "count=1\n",
    "while count<=10:\n",
    "   print(count)\n",
    "   count+=1\n"
   ]
  },
  {
   "cell_type": "code",
   "execution_count": null,
   "id": "b34df46d",
   "metadata": {},
   "outputs": [],
   "source": [
    "### Assignment 7: Nested Loops Write a program that prints a 5x5 grid of asterisks (*) using nested loops.\n",
    "n=5\n",
    "for i in range(n):\n",
    "    for j in range(n):\n",
    "        print(\"*\", end=\"\")\n",
    "    print()"
   ]
  },
  {
   "cell_type": "code",
   "execution_count": null,
   "id": "6f65590a",
   "metadata": {},
   "outputs": [],
   "source": [
    "### Assignment 8: break Statement Write a program that asks the user to input numbers until they input 0. The program should print the sum of all the input numbers.\n",
    "sum=0\n",
    "while True:\n",
    "    number=int(input(\"Enter a number (0 to stop):\"))\n",
    "\n",
    "    if number==0:\n",
    "        break\n",
    "\n",
    "    sum +=number\n",
    "print(\"Sum of all numbers: \", sum)\n",
    "\n"
   ]
  },
  {
   "cell_type": "code",
   "execution_count": null,
   "id": "466bb694",
   "metadata": {},
   "outputs": [],
   "source": [
    "### Assignment 9: continue Statement\n",
    "#Write a program that prints all the numbers from 1 to 10 except 5 using a for loop and continue statement.\n",
    "\n",
    "for i in range(1,11):\n",
    "    if i==5:\n",
    "        continue\n",
    "    print(i)"
   ]
  },
  {
   "cell_type": "code",
   "execution_count": null,
   "id": "d6283914",
   "metadata": {},
   "outputs": [],
   "source": [
    "### Assignment 10: pass Statement Write a program that defines an empty function using the pass statement.\n",
    "def my_function():\n",
    "    pass"
   ]
  },
  {
   "cell_type": "code",
   "execution_count": null,
   "id": "c82910ed",
   "metadata": {},
   "outputs": [],
   "source": [
    "### Assignment 11: Combining Loops and Conditionals\n",
    "#Write a program that asks the user to input a number and prints all the even numbers from 1 to that number using a for loop.\n",
    "number=int(input(\"Enter a number\"))\n",
    "for i in range(1, number+1):\n",
    "    if i%2==0:\n",
    "        print(i)"
   ]
  },
  {
   "cell_type": "code",
   "execution_count": null,
   "id": "1939ff10",
   "metadata": {},
   "outputs": [],
   "source": [
    "### Assignment 12: Factorial Calculation\n",
    "#Write a program that calculates the factorial of a number input by the user using a while loop.\n",
    "number=int(input(\"Enter a number\"))\n",
    "factorial=1\n",
    "i=1\n",
    "while i<=number:\n",
    "   factorial*=i\n",
    "   i+=1\n",
    "print(\"The factoiral is: \",factorial)"
   ]
  },
  {
   "cell_type": "code",
   "execution_count": null,
   "id": "abe4f71d",
   "metadata": {},
   "outputs": [],
   "source": [
    "### Assignment 13: Sum of Digits\n",
    "#Write a program that calculates the sum of the digits of a number input by the user using a while loop.\n",
    "number=int(input(\"Enter a number\"))\n",
    "sum=0\n",
    "while number>0:\n",
    "    digit=number%10\n",
    "    sum=sum+digit\n",
    "    number=number//10\n",
    "print(\"The sum of digits is: \",sum)\n"
   ]
  },
  {
   "cell_type": "code",
   "execution_count": null,
   "id": "2f0c48b9",
   "metadata": {},
   "outputs": [],
   "source": [
    "### Assignment 14: Prime Number Check\n",
    "#Write a program that checks if a number input by the user is a prime number using a for loop.\n",
    "number = int(input(\"Enter a number: \"))\n",
    "\n",
    "if number <= 1:\n",
    "    print(\"Not a prime number\")\n",
    "else:\n",
    "    is_prime = True\n",
    "    for i in range(2, number):\n",
    "        if number % i == 0:\n",
    "            is_prime = False\n",
    "            break\n",
    "\n",
    "    if is_prime:\n",
    "        print(number, \"is a prime number\")\n",
    "    else:\n",
    "        print(number, \"is not a prime number\")\n"
   ]
  },
  {
   "cell_type": "code",
   "execution_count": null,
   "id": "8235960c",
   "metadata": {},
   "outputs": [],
   "source": [
    "###Assignment 15: Fibonacci Sequence\n",
    "#Write a program that prints the first n Fibonacci numbers, where n is input by the user.\n",
    "n = int(input(\"Enter how many Fibonacci numbers to print: \"))\n",
    "\n",
    "a, b = 0, 1\n",
    "count = 0\n",
    "\n",
    "while count < n:\n",
    "    print(a, end=' ')\n",
    "    a, b = b, a + b\n",
    "    count += 1\n"
   ]
  }
 ],
 "metadata": {
  "kernelspec": {
   "display_name": "myenv",
   "language": "python",
   "name": "python3"
  },
  "language_info": {
   "codemirror_mode": {
    "name": "ipython",
    "version": 3
   },
   "file_extension": ".py",
   "mimetype": "text/x-python",
   "name": "python",
   "nbconvert_exporter": "python",
   "pygments_lexer": "ipython3",
   "version": "3.11.11"
  }
 },
 "nbformat": 4,
 "nbformat_minor": 5
}
