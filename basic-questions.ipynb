{
 "cells": [
  {
   "cell_type": "code",
   "execution_count": 3,
   "id": "9ac95892",
   "metadata": {},
   "outputs": [
    {
     "name": "stdout",
     "output_type": "stream",
     "text": [
      "The number is negative \n"
     ]
    }
   ],
   "source": [
    "###question 1\n",
    "#Write a program that asks the user to input a number and prints whether the number is positive.\n",
    "\n",
    "number=int(input(\"Enter a number\"))\n",
    "if number>=0:\n",
    "    print(\"The number is positive.\")\n",
    "else:\n",
    "    print(\"The number is negative \")"
   ]
  },
  {
   "cell_type": "code",
   "execution_count": 6,
   "id": "b5796cca",
   "metadata": {},
   "outputs": [
    {
     "name": "stdout",
     "output_type": "stream",
     "text": [
      "The number is negative.\n"
     ]
    }
   ],
   "source": [
    "###Question 2 if-elif-else Statement\n",
    "#Write a program that asks the user to input a number and prints whether the number is positive, negative, or zero.\n",
    "number=int(input(\"Enter a number\"))\n",
    "if number==0:\n",
    "    print(\"The number is zero\")\n",
    "elif number>0:\n",
    "    print(\"The number is positive.\")\n",
    "else:\n",
    "    print(\"The number is negative.\")"
   ]
  },
  {
   "cell_type": "code",
   "execution_count": 5,
   "id": "e47eeac7",
   "metadata": {},
   "outputs": [
    {
     "name": "stdout",
     "output_type": "stream",
     "text": [
      "The number is odd.\n"
     ]
    }
   ],
   "source": [
    "### Nested if Statement\n",
    "#Write a program that asks the user to input a number and prints whether the number is positive and even, positive and odd, or negative.\n",
    "number=int(input(\"Enter a number\"))\n",
    "if number>=0:\n",
    "    if number%2==0:\n",
    "        print(\"The number is even.\")\n",
    "    else:\n",
    "        print(\"The number is odd.\")\n",
    "else:\n",
    "    print(\"The number is negative.\")"
   ]
  },
  {
   "cell_type": "code",
   "execution_count": 1,
   "id": "40854c7a",
   "metadata": {},
   "outputs": [
    {
     "name": "stdout",
     "output_type": "stream",
     "text": [
      "1\n",
      "2\n",
      "3\n",
      "4\n",
      "5\n",
      "6\n",
      "7\n",
      "8\n",
      "9\n",
      "10\n"
     ]
    }
   ],
   "source": [
    "### Assignment 5: for Loop\n",
    "#Write a program that prints all the numbers from 1 to 10 using a for loop.\n",
    "n=10\n",
    "for i in range(1,n+1):\n",
    "    print(i)"
   ]
  },
  {
   "cell_type": "code",
   "execution_count": 8,
   "id": "8898b740",
   "metadata": {},
   "outputs": [
    {
     "name": "stdout",
     "output_type": "stream",
     "text": [
      "1\n",
      "2\n",
      "3\n",
      "4\n",
      "5\n",
      "6\n",
      "7\n",
      "8\n",
      "9\n",
      "10\n"
     ]
    }
   ],
   "source": [
    "\n",
    "### Assignment 6: while Loop\n",
    "#Write a program that prints all the numbers from 1 to 10 using a while loop.\n",
    "count=1\n",
    "while count<=10:\n",
    "   print(count)\n",
    "   count+=1\n"
   ]
  },
  {
   "cell_type": "code",
   "execution_count": 13,
   "id": "b34df46d",
   "metadata": {},
   "outputs": [
    {
     "name": "stdout",
     "output_type": "stream",
     "text": [
      "*****\n",
      "*****\n",
      "*****\n",
      "*****\n",
      "*****\n"
     ]
    }
   ],
   "source": [
    "### Assignment 7: Nested Loops Write a program that prints a 5x5 grid of asterisks (*) using nested loops.\n",
    "n=5\n",
    "for i in range(n):\n",
    "    for j in range(n):\n",
    "        print(\"*\", end=\"\")\n",
    "    print()"
   ]
  }
 ],
 "metadata": {
  "kernelspec": {
   "display_name": "myenv",
   "language": "python",
   "name": "python3"
  },
  "language_info": {
   "codemirror_mode": {
    "name": "ipython",
    "version": 3
   },
   "file_extension": ".py",
   "mimetype": "text/x-python",
   "name": "python",
   "nbconvert_exporter": "python",
   "pygments_lexer": "ipython3",
   "version": "3.11.11"
  }
 },
 "nbformat": 4,
 "nbformat_minor": 5
}
