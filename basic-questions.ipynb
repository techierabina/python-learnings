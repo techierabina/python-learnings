{
 "cells": [
  {
   "cell_type": "code",
   "execution_count": null,
   "id": "9ac95892",
   "metadata": {},
   "outputs": [],
   "source": [
    "###question 1\n",
    "#Write a program that asks the user to input a number and prints whether the number is positive.\n",
    "\n",
    "number=int(input(\"Enter a number\"))\n",
    "if number>=0:\n",
    "    print(\"The number is positive.\")\n",
    "else:\n",
    "    print(\"The number is negative \")"
   ]
  }
 ],
 "metadata": {
  "kernelspec": {
   "display_name": "myenv",
   "language": "python",
   "name": "python3"
  },
  "language_info": {
   "name": "python",
   "version": "3.11.11"
  }
 },
 "nbformat": 4,
 "nbformat_minor": 5
}
