{
 "cells": [
  {
   "cell_type": "markdown",
   "id": "b496ceb1",
   "metadata": {},
   "source": [
    "### Assignment 1: Creating and Accessing Tuples\n",
    "Create a tuple with the first 10 positive integers. Print the tuple."
   ]
  },
  {
   "cell_type": "code",
   "execution_count": null,
   "id": "cc61499d",
   "metadata": {},
   "outputs": [],
   "source": [
    "positive_integers=tuple(range(1,11))\n",
    "print(positive_integers)"
   ]
  },
  {
   "cell_type": "markdown",
   "id": "4e72060b",
   "metadata": {},
   "source": [
    "### Assignment 2: Accessing Tuple Elements\n",
    "Print the first, middle, and last elements of the tuple created in Assignment 1."
   ]
  },
  {
   "cell_type": "code",
   "execution_count": null,
   "id": "9bbb7a3f",
   "metadata": {},
   "outputs": [],
   "source": [
    "print(\"First element:\",positive_integers[0])\n",
    "middle_element=len(positive_integers)//2\n",
    "print(\"Midddle element:\",positive_integers[middle_element])\n",
    "print(\"Last element:\",positive_integers[-1])"
   ]
  },
  {
   "cell_type": "markdown",
   "id": "107eda57",
   "metadata": {},
   "source": [
    "### Assignment 3: Tuple Slicing\n",
    "Print the first three elements, the last three elements, and the elements from index 2 to 5 of the tuple created in Assignment 1."
   ]
  },
  {
   "cell_type": "code",
   "execution_count": null,
   "id": "718c5e2f",
   "metadata": {},
   "outputs": [],
   "source": [
    "three_elements=positive_integers[0:3]\n",
    "last_elements=positive_integers[7:11]\n",
    "middle_elements=positive_integers[3:7]\n",
    "print(\"First three elements:\",three_elements)\n",
    "print(\"Middle elements:\",middle_elements)\n",
    "print(\"Last elements:\",last_elements)\n",
    "\n"
   ]
  },
  {
   "cell_type": "markdown",
   "id": "5760d104",
   "metadata": {},
   "source": [
    "### Assignment 4: Nested Tuples\n",
    "Create a nested tuple representing a 3x3 matrix and print the matrix\n",
    "Access and print the element at the second row and third column."
   ]
  },
  {
   "cell_type": "code",
   "execution_count": null,
   "id": "5ca6e40e",
   "metadata": {},
   "outputs": [],
   "source": [
    "matrix=((1,2,3),(3,4,5),(44,66,77))\n",
    "print(\"Matrix : \")\n",
    "for row in matrix:\n",
    "    print(row)\n",
    "print(\"The element at the second row and third column:\",matrix[1][2])"
   ]
  },
  {
   "cell_type": "markdown",
   "id": "a04fb413",
   "metadata": {},
   "source": [
    "### Assignment 5: Tuple Concatenation\n",
    "Concatenate two tuples: (1, 2, 3) and (4, 5, 6). Print the resulting tuple."
   ]
  },
  {
   "cell_type": "code",
   "execution_count": null,
   "id": "3693b313",
   "metadata": {},
   "outputs": [],
   "source": [
    "tup1=(1,2,3)\n",
    "tup2=(4,5,6)\n",
    "concatination=tup1 +tup2\n",
    "print(concatination)"
   ]
  },
  {
   "cell_type": "markdown",
   "id": "07b099ad",
   "metadata": {},
   "source": [
    "### Assignment 6: Tuple Methods\n",
    "Create a tuple with duplicate elements and count the occurrences of an element. \n",
    "Find the index of the first occurrence of an element in the tuple."
   ]
  },
  {
   "cell_type": "code",
   "execution_count": null,
   "id": "9817ac62",
   "metadata": {},
   "outputs": [],
   "source": [
    "duplicate_tuple=(11,22,33,11,4,2,11,6,77,88,11)\n",
    "print(\"No of duplicate tuple:\",duplicate_tuple.count(11))\n",
    "print(\"The index of first occurance of 11 in tuple:\",duplicate_tuple.index(11))"
   ]
  },
  {
   "cell_type": "markdown",
   "id": "92129608",
   "metadata": {},
   "source": [
    "### Assignment 7: Unpacking Tuples\n",
    "Create a tuple with 5 elements and unpack it into 5 variables. Print the variables."
   ]
  },
  {
   "cell_type": "code",
   "execution_count": null,
   "id": "aa0003a5",
   "metadata": {},
   "outputs": [],
   "source": [
    "tuples=(22,44,55,66)\n",
    "a, *b, c=tuples #unpacking tuples #* creates a list of remaning elements \n",
    "print(a)\n",
    "print(b)\n",
    "print(c)"
   ]
  },
  {
   "cell_type": "markdown",
   "id": "afad575c",
   "metadata": {},
   "source": [
    "### Assignment 8: Tuple Conversion\n",
    "Convert a list of the first 5 positive integers to a tuple. Print the tuple."
   ]
  },
  {
   "cell_type": "code",
   "execution_count": null,
   "id": "17f13632",
   "metadata": {},
   "outputs": [],
   "source": [
    "lst=[1,2,3,4,5]\n",
    "tuples=tuple(lst)\n",
    "print(tuples)"
   ]
  },
  {
   "cell_type": "markdown",
   "id": "3d9d76fb",
   "metadata": {},
   "source": [
    "### Assignment 9: Tuple of Tuples\n",
    "Create a tuple containing 3 tuples, each with 3 elements. Print the tuple of tuples."
   ]
  },
  {
   "cell_type": "code",
   "execution_count": null,
   "id": "80d019fe",
   "metadata": {},
   "outputs": [],
   "source": [
    "tuples=((1,2,33),(11,3,2),(99,2,4))\n",
    "print(tuples[0])\n",
    "print(tuples[1])\n",
    "print(tuples[2])"
   ]
  },
  {
   "cell_type": "markdown",
   "id": "06bdba42",
   "metadata": {},
   "source": [
    "### Assignment 10: Tuple and List\n",
    "Create a tuple with the first 5 positive integers. Convert it to a list, append the number 6, and convert it back to a tuple. Print the resulting tuple."
   ]
  },
  {
   "cell_type": "code",
   "execution_count": null,
   "id": "a94cc2e3",
   "metadata": {},
   "outputs": [],
   "source": [
    "positive_integers=(1,2,3,4,5)\n",
    "lst=list(positive_integers)\n",
    "lst.append(6)\n",
    "positive_integers=tuple(lst)\n",
    "print(positive_integers)"
   ]
  },
  {
   "cell_type": "markdown",
   "id": "b9b47a0c",
   "metadata": {},
   "source": [
    "### Assignment 11: Tuple and String\n",
    "Create a tuple with the characters of a string. Join the tuple elements into a single string. Print the string."
   ]
  },
  {
   "cell_type": "code",
   "execution_count": null,
   "id": "31ae3f7e",
   "metadata": {},
   "outputs": [],
   "source": [
    "string=\"Hello\"\n",
    "tpl=tuple(string)\n",
    "joined_string=''.join(tpl)\n",
    "print(joined_string)"
   ]
  },
  {
   "cell_type": "markdown",
   "id": "85033f66",
   "metadata": {},
   "source": [
    "### Assignment 12: Tuple and Dictionary\n",
    "Create a dictionary with tuple keys and integer values. Print the dictionary."
   ]
  },
  {
   "cell_type": "code",
   "execution_count": null,
   "id": "751226c7",
   "metadata": {},
   "outputs": [],
   "source": [
    "tpl={\n",
    "    (2,4,6):\"rabina\",\n",
    "    (2,5,7):\"sagar\",\n",
    "    (3,6,7):\"kola\"\n",
    "}\n",
    "print(tpl)"
   ]
  },
  {
   "cell_type": "markdown",
   "id": "7426282e",
   "metadata": {},
   "source": [
    "### Assignment 13: Nested Tuple Iteration\n",
    "Create a nested tuple and iterate over the elements, printing each element."
   ]
  },
  {
   "cell_type": "code",
   "execution_count": null,
   "id": "31b2f5fa",
   "metadata": {},
   "outputs": [],
   "source": [
    "nested_tuple=((11,2,33),\n",
    "              (44,7,77),\n",
    "              (66,8,9))\n",
    "for elemtns in nested_tuple:\n",
    "    for items in elemtns:\n",
    "        print(items)"
   ]
  },
  {
   "cell_type": "markdown",
   "id": "41cf3ad9",
   "metadata": {},
   "source": [
    "### Assignment 14: Tuple and Set\n",
    "Create a tuple with duplicate elements. Convert it to a set to remove duplicates and print the resulting set."
   ]
  },
  {
   "cell_type": "code",
   "execution_count": null,
   "id": "aa64a6ee",
   "metadata": {},
   "outputs": [],
   "source": [
    "tpl = (1, 2, 2, 3, 4, 4, 4, 5)\n",
    "unique_set = set(tpl)\n",
    "print(unique_set)"
   ]
  },
  {
   "cell_type": "markdown",
   "id": "70bea908",
   "metadata": {},
   "source": [
    "### Assignment 15: Tuple Functions\n",
    "Write functions that take a tuple and return the minimum, maximum, and sum of the elements.\n",
    "Print the results for a sample tuple."
   ]
  },
  {
   "cell_type": "code",
   "execution_count": null,
   "id": "d7f3ed07",
   "metadata": {},
   "outputs": [],
   "source": [
    "def min_in_tuple(tpl):\n",
    "    return min(tpl)\n",
    "\n",
    "def max_in_tuple(tpl):\n",
    "    return max(tpl)\n",
    "\n",
    "def sum_of_tuple(tpl):\n",
    "    return sum(tpl)\n",
    "\n",
    "sample_tpl = (77, 99, 0, 46, -5)\n",
    "print(f\"Minimum: {min_in_tuple(sample_tpl)}\")\n",
    "print(f\"Maximum: {max_in_tuple(sample_tpl)}\")\n",
    "print(f\"Sum: {sum_of_tuple(sample_tpl)}\")"
   ]
  }
 ],
 "metadata": {
  "kernelspec": {
   "display_name": "myenv",
   "language": "python",
   "name": "python3"
  },
  "language_info": {
   "codemirror_mode": {
    "name": "ipython",
    "version": 3
   },
   "file_extension": ".py",
   "mimetype": "text/x-python",
   "name": "python",
   "nbconvert_exporter": "python",
   "pygments_lexer": "ipython3",
   "version": "3.11.11"
  }
 },
 "nbformat": 4,
 "nbformat_minor": 5
}
